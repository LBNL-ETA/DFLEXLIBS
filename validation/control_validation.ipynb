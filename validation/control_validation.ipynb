{
 "cells": [
  {
   "attachments": {},
   "cell_type": "markdown",
   "metadata": {},
   "source": [
    "# Control validation (semantic sufficiency validation)\n",
    "---"
   ]
  },
  {
   "cell_type": "markdown",
   "metadata": {},
   "source": [
    "### Defining graph and manifests paths"
   ]
  },
  {
   "cell_type": "code",
   "execution_count": 7,
   "metadata": {},
   "outputs": [],
   "source": [
    "#graph_path = '../examples/boptest/testcase_multizone_office_simple_air/multizone_office_simple_air.ttl'\n",
    "graph_path = '../examples/boptest/testcase_bestest_air/bestest_air.ttl'\n",
    "\n",
    "# Define manifest paths (metadata requirements for the controls)\n",
    "manifest_paths = {\n",
    "        'shed os_zone_temp_adjs_rat':'validation/manifests_controls/manifest_shed_os_zone_temp_adjs_rat.ttl',\n",
    "        'shed os_zone_temp_adjs_dem_rat':'validation/manifests_controls/manifest_shed_os_zone_temp_adjs_dem_rat.ttl',                  \n",
    "        'shift os_zone_precool_sim':'validation/manifests_controls/manifest_shift_os_zone_precool_sim.ttl',                  \n",
    "        'shift os_zone_precool_com':'validation/manifests_controls/manifest_shift_os_zone_precool_com.ttl',                  \n",
    "        'shift/shed os_zone_precool_sim_temp_adjs_rat':'validation/manifests_controls/manifest_shift_shed_os_zone_precool_sim_temp_adjs_rat.ttl'                  \n",
    "        }"
   ]
  },
  {
   "cell_type": "markdown",
   "metadata": {},
   "source": [
    "### Validating a Brick model"
   ]
  },
  {
   "cell_type": "code",
   "execution_count": 8,
   "metadata": {},
   "outputs": [
    {
     "name": "stdout",
     "output_type": "stream",
     "text": [
      " For control applications shed os_zone_temp_adjs_dem_rat - Graph did not have 1 instances of https://brickschema.org/schema/Brick#Electric_Power_Sensor\n",
      "╒══════════════════════════════════════════════╤═════════════════════════════════╕\n",
      "│ Control                                      │ Brick model validation result   │\n",
      "╞══════════════════════════════════════════════╪═════════════════════════════════╡\n",
      "│ shed os_zone_temp_adjs_rat                   │ True                            │\n",
      "├──────────────────────────────────────────────┼─────────────────────────────────┤\n",
      "│ shed os_zone_temp_adjs_dem_rat               │ False                           │\n",
      "├──────────────────────────────────────────────┼─────────────────────────────────┤\n",
      "│ shift os_zone_precool_sim                    │ True                            │\n",
      "├──────────────────────────────────────────────┼─────────────────────────────────┤\n",
      "│ shift os_zone_precool_com                    │ True                            │\n",
      "├──────────────────────────────────────────────┼─────────────────────────────────┤\n",
      "│ shift/shed os_zone_precool_sim_temp_adjs_rat │ True                            │\n",
      "╘══════════════════════════════════════════════╧═════════════════════════════════╛\n",
      "Suitable DF control apps according to metadata in the Brick model ['shed os_zone_temp_adjs_rat', 'shift os_zone_precool_sim', 'shift os_zone_precool_com', 'shift/shed os_zone_precool_sim_temp_adjs_rat']\n"
     ]
    }
   ],
   "source": [
    "from buildingMOTIF_interface import ValidationInterface\n",
    "\n",
    "# Initialize validation interface\n",
    "validator = ValidationInterface(graph_path, manifest_paths)\n",
    "\n",
    "# Run validation\n",
    "suitable_controlApps = []\n",
    "suitable_controlApps = validator.validate()\n",
    "suitable_controlApps = [list(d)[0] for d in suitable_controlApps]\n",
    "\n",
    "print('Suitable DF control apps according to metadata in the Brick model',suitable_controlApps)"
   ]
  },
  {
   "cell_type": "code",
   "execution_count": 9,
   "metadata": {},
   "outputs": [
    {
     "name": "stdout",
     "output_type": "stream",
     "text": [
      "{\n",
      "  \"validation_table\": [\n",
      "    [\n",
      "      \"shed os_zone_temp_adjs_rat\",\n",
      "      true\n",
      "    ],\n",
      "    [\n",
      "      \"shed os_zone_temp_adjs_dem_rat\",\n",
      "      false\n",
      "    ],\n",
      "    [\n",
      "      \"shift os_zone_precool_sim\",\n",
      "      true\n",
      "    ],\n",
      "    [\n",
      "      \"shift os_zone_precool_com\",\n",
      "      true\n",
      "    ],\n",
      "    [\n",
      "      \"shift/shed os_zone_precool_sim_temp_adjs_rat\",\n",
      "      true\n",
      "    ]\n",
      "  ],\n",
      "  \"suitable_controlApps\": [\n",
      "    \"shed os_zone_temp_adjs_rat\",\n",
      "    \"shift os_zone_precool_sim\",\n",
      "    \"shift os_zone_precool_com\",\n",
      "    \"shift/shed os_zone_precool_sim_temp_adjs_rat\"\n",
      "  ],\n",
      "  \"non_suitable_controlApps\": [\n",
      "    [\n",
      "      \"shed os_zone_temp_adjs_dem_rat\",\n",
      "      \"Graph did not have 1 instances of https://brickschema.org/schema/Brick#Electric_Power_Sensor\"\n",
      "    ]\n",
      "  ]\n",
      "}\n"
     ]
    }
   ],
   "source": [
    "# Get results in json format\n",
    "json_results = validator.get_results()"
   ]
  }
 ],
 "metadata": {
  "kernelspec": {
   "display_name": "env",
   "language": "python",
   "name": "python3"
  },
  "language_info": {
   "codemirror_mode": {
    "name": "ipython",
    "version": 3
   },
   "file_extension": ".py",
   "mimetype": "text/x-python",
   "name": "python",
   "nbconvert_exporter": "python",
   "pygments_lexer": "ipython3",
   "version": "3.11.4"
  },
  "orig_nbformat": 4
 },
 "nbformat": 4,
 "nbformat_minor": 2
}
