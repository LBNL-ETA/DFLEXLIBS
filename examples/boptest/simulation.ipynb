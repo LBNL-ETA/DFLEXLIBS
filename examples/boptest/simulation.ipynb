{
 "cells": [
  {
   "attachments": {},
   "cell_type": "markdown",
   "metadata": {},
   "source": [
    "### Run web-hosted BOPTEST simulation \n",
    "\n",
    "For running BOPTEST without the need of local downloads or installations, this simulation uses the BOPTEST  web-hosted environment (BOPTEST-Service). This publicly accessible service allows for the deployment of the test cases in the cloud, enabling interactions via the BOPTEST API. This notebook follows the steps outlined in [this](https://github.com/ibpsa/project1-boptest/blob/master/docs/workshops/BS21Workshop_20210831/Introduction_to_the_BOPTEST_framework.ipynb) BOPTEST tutorial.  \n",
    "\n",
    "Prior to initiating the simulation, begin by importing the interface for the control application and selecting the control application, test case and simulation parameters."
   ]
  },
  {
   "cell_type": "markdown",
   "metadata": {},
   "source": [
    "### Selecting a  Control, Test Case and Simulation Parameters\n",
    "We can select and launch a test case from the repository of [currently available test cases](https://ibpsa.github.io/project1-boptest/testcases/index.html). The simulation paramenters such as the scenario ones (time period and electricity price) can be chosen from the [test cases directory](https://github.com/ibpsa/project1-boptest/tree/master/testcases). Here we can also define the simulation step in seconds. "
   ]
  },
  {
   "cell_type": "code",
   "execution_count": 1,
   "metadata": {},
   "outputs": [],
   "source": [
    "import os\n",
    "import sys\n",
    "sys.path.append(\"..\")\n",
    "\n",
    "# Change BOPTEST interface!!!\n",
    "from BOPTest_interface_os_c_1a_zone_temp_adjs_rat import (\n",
    "    BOPTestControls,\n",
    "    BOPTestControlFunctions,\n",
    "    BOPTestInterface\n",
    ")\n",
    "\n",
    "# Select control and test case identifier \n",
    "control = 'os_c_1a_zone_temp_adjs_rat' \n",
    "\n",
    "# os_c_1a_zone_temp_adj_inc_ratch\n",
    "# os_c_1b_zone_temp_adj_perform_ratch\n",
    "# os_c_2a_zone_pre_heat_cool_sim\n",
    "# os_c_2b_zone_pre_heat_cool_com\n",
    "# os_c_1a2a_zone_temp_adj_inc_ratch_pre_heat_cool_sim\n",
    "# os_c_1a2b_zone_temp_adj_inc_ratch_pre_heat_cool_com\n",
    "# os_c_1b2a_zone_temp_adj_perform_ratch_pre_heat_cool_sim\n",
    "# os_c_1b2b_zone_temp_adj_perform_ratch_pre_heat_cool_com\n",
    "# os_c_3_chi_water_temp_reset\n",
    "\n",
    "testcase = 'bestest_air' # bestest_air, bestest_hydronic_heat_pump, singlezone_commercial_hydronic, multizone_office_simple_air\n",
    "graph_path = os.path.join(os.getcwd(), f'testcase_{testcase}', f'{testcase}.ttl')\n",
    "\n",
    "# Select the simulation parameters/scenario (choosen from https://github.com/ibpsa/project1-boptest/tree/master/testcases)\n",
    "time_period = 'peak_heat_day'\n",
    "electricity_price ='highly_dynamic'\n",
    "\n",
    "electricity_price_identifier = 'PriceElectricPowerHighlyDynamic'\n",
    "\n",
    "# Set simulation step \n",
    "step = 900 # 15 min\n"
   ]
  },
  {
   "cell_type": "markdown",
   "metadata": {},
   "source": [
    "### Create Application \n",
    "Create application based on the selected control. "
   ]
  },
  {
   "cell_type": "code",
   "execution_count": 2,
   "metadata": {},
   "outputs": [],
   "source": [
    "from utility_functions import get_hvac_signals\n",
    "\n",
    "from utility_functions.get_price_threshold import get_price_threshold\n",
    "\n",
    "class TestCaseInterface(BOPTestInterface):\n",
    "    def __init__(self, controls, config_path, hvac_signal_function):\n",
    "        super().__init__(controls, config_path)\n",
    "        self.hvac_signal_function = hvac_signal_function\n",
    "\n",
    "    def get_hvac_signals(self, *args):\n",
    "        return self.hvac_signal_function(*args)\n",
    "    \n",
    "    def get_price_threshold(self, *args):\n",
    "        return get_price_threshold(*args)\n",
    "    \n",
    "def create_application(config_path, hvac_signal_function_name) -> BOPTestInterface:\n",
    "    '''takes a config file and returns an instantiated TestCaseInterface\n",
    "    \n",
    "    Parameters\n",
    "    ----------\n",
    "        config_path : str\n",
    "            the path to a configuration file for instantiating a bestest air shed application \n",
    "    Returns\n",
    "    -------\n",
    "        application : TestCaseInterface\n",
    "            returns an instantiated bestest air interface with shedding controls\n",
    "'''\n",
    "    \n",
    "    functions = BOPTestControlFunctions()\n",
    "    controls = BOPTestControls(functions)\n",
    "    hvac_signal_function = getattr(get_hvac_signals, hvac_signal_function_name)\n",
    "    \n",
    "    # Instantiate the TestCaseInterface with the controls, config_path, and hvac_signal_function\n",
    "    application = TestCaseInterface(controls, config_path, hvac_signal_function)\n",
    "    return application\n"
   ]
  },
  {
   "attachments": {},
   "cell_type": "markdown",
   "metadata": {},
   "source": [
    "### Instantiate Application \n",
    "Instantiate the test case interface with the selected control."
   ]
  },
  {
   "cell_type": "code",
   "execution_count": 3,
   "metadata": {},
   "outputs": [
    {
     "name": "stdout",
     "output_type": "stream",
     "text": [
      "(rdflib.term.URIRef('urn:bldg/hvacZone'), rdflib.term.Literal('zon_reaTRooAir_y'), rdflib.term.Literal('LowerSetp[1]'), rdflib.term.Literal('UpperSetp[1]'), rdflib.term.Literal('Occupancy[1]'), rdflib.term.Literal('con_oveTSetHea_u'), rdflib.term.Literal('con_oveTSetCoo_u'), None, None, None, None, None)\n"
     ]
    }
   ],
   "source": [
    "import os\n",
    "config_path = os.path.join(os.getcwd(), f'testcase_{testcase}', f'config_{control}.yml')\n",
    "function_name = 'get_' + testcase + '_hvac_signals'\n",
    "\n",
    "bt_interface = create_application(config_path, function_name)\n",
    "\n",
    "# print of the control's SPARQL result"
   ]
  },
  {
   "attachments": {},
   "cell_type": "markdown",
   "metadata": {},
   "source": [
    "### Launch the Selected Test Case\n",
    "First, import the Python `requests` library so that we can make HTTP requests to the BOPTEST API at the address indicated by the `url`. Then, use the `POST /testcases/<test_case_name>/select` BOPTEST API endpoint to launch the test case and receive a corresponding `testid`. While the url is the common gateway for everyone to access the BOPTEST web-service, the `testid` is a unique identifier for you to address the test case that you have selected and launched."
   ]
  },
  {
   "cell_type": "code",
   "execution_count": 4,
   "metadata": {},
   "outputs": [],
   "source": [
    "import requests\n",
    "url = \"https://api.boptest.net\"\n",
    "testid = \\\n",
    "    requests.post('{0}/testcases/{1}/select'.format(url,testcase)).json()['testid']\n"
   ]
  },
  {
   "attachments": {},
   "cell_type": "markdown",
   "metadata": {},
   "source": [
    "Once we have successfully obtained the `testid`, it is possible to start interacting with the selected test case using the rest of the BOPTEST API. For example, use the `GET /name` BOPTEST API endpoint, along with the testid, to request the name of the chosen test case."
   ]
  },
  {
   "cell_type": "code",
   "execution_count": 5,
   "metadata": {},
   "outputs": [
    {
     "name": "stdout",
     "output_type": "stream",
     "text": [
      "{'name': 'bestest_air'}\n"
     ]
    }
   ],
   "source": [
    "# Get test case name\n",
    "name = requests.get('{0}/name/{1}'.format(url, testid)).json()['payload']\n",
    "print(name)"
   ]
  },
  {
   "attachments": {},
   "cell_type": "markdown",
   "metadata": {},
   "source": [
    "### Getting Control Input and Measurement Points\n",
    "While control input and measurement points are described in the [documentation](https://ibpsa.github.io/project1-boptest/testcases/), they are also available to retreive from the BOPTEST API. This is especially useful to store for later when requesting data for a specific point.\n",
    "\n",
    "Retrieve the control input and measurement outputs using the `GET /inputs` and `GET /measurements` BOPTEST API endpoints."
   ]
  },
  {
   "cell_type": "code",
   "execution_count": 6,
   "metadata": {},
   "outputs": [
    {
     "name": "stdout",
     "output_type": "stream",
     "text": [
      "TEST CASE INPUTS ---------------------------------------------\n",
      "dict_keys(['con_oveTSetCoo_activate', 'con_oveTSetCoo_u', 'con_oveTSetHea_activate', 'con_oveTSetHea_u', 'fcu_oveFan_activate', 'fcu_oveFan_u', 'fcu_oveTSup_activate', 'fcu_oveTSup_u'])\n",
      "TEST CASE MEASUREMENTS ---------------------------------------\n",
      "dict_keys(['fcu_reaFloSup_y', 'fcu_reaPCoo_y', 'fcu_reaPFan_y', 'fcu_reaPHea_y', 'zon_reaCO2RooAir_y', 'zon_reaPLig_y', 'zon_reaPPlu_y', 'zon_reaTRooAir_y', 'zon_weaSta_reaWeaCeiHei_y', 'zon_weaSta_reaWeaCloTim_y', 'zon_weaSta_reaWeaHDifHor_y', 'zon_weaSta_reaWeaHDirNor_y', 'zon_weaSta_reaWeaHGloHor_y', 'zon_weaSta_reaWeaHHorIR_y', 'zon_weaSta_reaWeaLat_y', 'zon_weaSta_reaWeaLon_y', 'zon_weaSta_reaWeaNOpa_y', 'zon_weaSta_reaWeaNTot_y', 'zon_weaSta_reaWeaPAtm_y', 'zon_weaSta_reaWeaRelHum_y', 'zon_weaSta_reaWeaSolAlt_y', 'zon_weaSta_reaWeaSolDec_y', 'zon_weaSta_reaWeaSolHouAng_y', 'zon_weaSta_reaWeaSolTim_y', 'zon_weaSta_reaWeaSolZen_y', 'zon_weaSta_reaWeaTBlaSky_y', 'zon_weaSta_reaWeaTDewPoi_y', 'zon_weaSta_reaWeaTDryBul_y', 'zon_weaSta_reaWeaTWetBul_y', 'zon_weaSta_reaWeaWinDir_y', 'zon_weaSta_reaWeaWinSpe_y'])\n"
     ]
    }
   ],
   "source": [
    "# Get inputs available\n",
    "inputs = requests.get('{0}/inputs/{1}'.format(url, testid)).json()['payload']\n",
    "print('TEST CASE INPUTS ---------------------------------------------')\n",
    "print(inputs.keys())\n",
    "# Get measurements available\n",
    "measurements = requests.get('{0}/measurements/{1}'.format(url, testid)).json()['payload']\n",
    "print('TEST CASE MEASUREMENTS ---------------------------------------')\n",
    "print(measurements.keys())"
   ]
  },
  {
   "attachments": {},
   "cell_type": "markdown",
   "metadata": {},
   "source": [
    "### Initializing a test scenario\n",
    "Select a testing scenario using the `PUT /scenario` BOPTEST API endpoint to allow to test the  controller for a pre-defined period and with predefined conditions. It uses the parameters time_period and electricity_price to set a specific scenario as defined for each test case within their respective [documentation](https://github.com/ibpsa/project1-boptest/tree/master/testcases). "
   ]
  },
  {
   "cell_type": "code",
   "execution_count": 7,
   "metadata": {},
   "outputs": [],
   "source": [
    "scenario_return = requests.put('{0}/scenario/{1}'.format(url, testid),\n",
    "    data={'time_period':time_period,\n",
    "    'electricity_price':electricity_price}).json()['payload']"
   ]
  },
  {
   "attachments": {},
   "cell_type": "markdown",
   "metadata": {},
   "source": [
    "Setting the scenario API call can return the `time_period` as an argument with current time measurements of the simulation intialized to the scenario time period.\n",
    "The variable `start_time_days` refers to the start time of the test period."
   ]
  },
  {
   "cell_type": "code",
   "execution_count": 8,
   "metadata": {},
   "outputs": [],
   "source": [
    "y = scenario_return['time_period']\n",
    "start_time_days = y['time']/24/3600"
   ]
  },
  {
   "attachments": {},
   "cell_type": "markdown",
   "metadata": {},
   "source": [
    "###  Get Forecast Data for Plotting  BOPTEST comfort range\n",
    "\n",
    "Use the `PUT /forecast` BOPTEST API endpoint with parameters point names referring to the list of forecast data needed, as well as horizon and interval in seconds to set a forecast horizon and data interval. This same endpoint is used to retrieve the forecast data, which will start from the current simulation time."
   ]
  },
  {
   "cell_type": "code",
   "execution_count": 9,
   "metadata": {},
   "outputs": [],
   "source": [
    "import pandas as pd\n",
    "df_f_single_day = pd.DataFrame()\n",
    "forecast_points = requests.get('{0}/forecast_points/{1}'.format(url, testid)).json()['payload']\n",
    "list_forecast = list(forecast_points.keys())\n",
    "\n",
    "# Get the forecast data for the specified point names and time horizon\n",
    "f = requests.put('{0}/forecast/{1}'.format(url, testid), \n",
    "             data={'point_names': list_forecast, 'horizon':14*24*3600, 'interval':1*step}).json()['payload']\n",
    "# Create a dataframe from the forecast data\n",
    "df_f_single_day = pd.DataFrame.from_dict(f)\n",
    "    \n",
    "# Set the index of the dataframe to the time field\n",
    "df_f_single_day.set_index('time', inplace=True)\n",
    "    \n",
    "# Print the dataframe\n",
    "#print(df_f_single_day)"
   ]
  },
  {
   "attachments": {},
   "cell_type": "markdown",
   "metadata": {},
   "source": [
    "### Simulating the Baseline Control for Benchmarking\n",
    "Before testing a new controller, we need to simulate the baseline for a defined scenario and evaluate its performance. The baseline can be quickly simulated by setting a long control step and without overwritting any control signal when advancing the simulation. Here, we even set the control step to one year knowing that the simulation is forced to stop at the end of the scenario time period."
   ]
  },
  {
   "cell_type": "code",
   "execution_count": 10,
   "metadata": {},
   "outputs": [
    {
     "data": {
      "text/plain": [
       "{'status': 200,\n",
       " 'message': 'Advanced simulation successfully from 28857600.0s to 30067200.0s.',\n",
       " 'payload': {'time': 30067200,\n",
       "  'fcu_reaFloSup_y': -1.5236703275459965e-212,\n",
       "  'fcu_reaPCoo_y': 4.304578790366723e-209,\n",
       "  'fcu_reaPFan_y': 0,\n",
       "  'fcu_reaPHea_y': 0,\n",
       "  'zon_reaCO2RooAir_y': 426.1319838078747,\n",
       "  'zon_reaPLig_y': 56.64000000000001,\n",
       "  'zon_reaPPlu_y': 25.92,\n",
       "  'zon_reaTRooAir_y': 289.9550854762039,\n",
       "  'zon_weaSta_reaWeaCeiHei_y': 77777,\n",
       "  'zon_weaSta_reaWeaCloTim_y': 30067200,\n",
       "  'zon_weaSta_reaWeaHDifHor_y': 0,\n",
       "  'zon_weaSta_reaWeaHDirNor_y': 0,\n",
       "  'zon_weaSta_reaWeaHGloHor_y': 0,\n",
       "  'zon_weaSta_reaWeaHHorIR_y': 216,\n",
       "  'zon_weaSta_reaWeaLat_y': 0.6939429105929453,\n",
       "  'zon_weaSta_reaWeaLon_y': -1.830152253641254,\n",
       "  'zon_weaSta_reaWeaNOpa_y': 0,\n",
       "  'zon_weaSta_reaWeaNTot_y': 0,\n",
       "  'zon_weaSta_reaWeaPAtm_y': 101325,\n",
       "  'zon_weaSta_reaWeaRelHum_y': 0.8200000000000001,\n",
       "  'zon_weaSta_reaWeaSolAlt_y': -1.2823087938201239,\n",
       "  'zon_weaSta_reaWeaSolDec_y': -0.4059129605677608,\n",
       "  'zon_weaSta_reaWeaSolHouAng_y': 2183.42608748864,\n",
       "  'zon_weaSta_reaWeaSolTim_y': 30067463.926046666,\n",
       "  'zon_weaSta_reaWeaSolZen_y': 2.8531051206150204,\n",
       "  'zon_weaSta_reaWeaTBlaSky_y': 248.33527414273536,\n",
       "  'zon_weaSta_reaWeaTDewPoi_y': 263.75,\n",
       "  'zon_weaSta_reaWeaTDryBul_y': 265.95,\n",
       "  'zon_weaSta_reaWeaTWetBul_y': 265.2517356245283,\n",
       "  'zon_weaSta_reaWeaWinDir_y': 2.443460952792061,\n",
       "  'zon_weaSta_reaWeaWinSpe_y': 3.1,\n",
       "  'con_oveTSetCoo_activate': 0,\n",
       "  'con_oveTSetCoo_u': 303.15,\n",
       "  'con_oveTSetHea_activate': 0,\n",
       "  'con_oveTSetHea_u': 288.15,\n",
       "  'fcu_oveFan_activate': 0,\n",
       "  'fcu_oveFan_u': 0,\n",
       "  'fcu_oveTSup_activate': 0,\n",
       "  'fcu_oveTSup_u': 294.15}}"
      ]
     },
     "execution_count": 10,
     "metadata": {},
     "output_type": "execute_result"
    }
   ],
   "source": [
    "# Set the control step to one year \n",
    "requests.put('{0}/step/{1}'.format(url, testid), data={'step':365*24*3600})\n",
    "\n",
    "# Advance the simulation with no control overwrite\n",
    "requests.post('{0}/advance/{1}'.format(url, testid), data={}).json()"
   ]
  },
  {
   "attachments": {},
   "cell_type": "markdown",
   "metadata": {},
   "source": [
    "### Getting Core KPI Values\n",
    "To obtain the KPI, calculated based on the emulator performance during a simulation (starting from the initialization), use the `GET /kpi` BOPTEST API endpoint.\n",
    "\n",
    "The core KPIs, those that are calculated for every test case, are defined in BOPTEST to evaluate different aspects of a controller. These are:\n",
    "\n",
    "- **Thermal discomfort**: reported with units of [Kh/zone], defines the cumulative deviation of zone temperatures from upper and lower comfort limits that are predefined within the test case FMU for each zone, averaged over all zones. Air temperature is used for air-based systems and operative temperature is used for radiant systems.\n",
    "\n",
    "- **Indoor Air Quality (IAQ) Discomfort**: reported with units of [ppmh/zone], defines the extent that the CO\n",
    " concentration levels in zones exceed bounds of the acceptable concentration level, which are predefined within the test case FMU for each zone, averaged over all zones.\n",
    "\n",
    "- **Energy Use**: reported with units of [kWh/m2], defines the HVAC energy usage.\n",
    "\n",
    "- **Peak electrical demand**:reported with units of [kW/m2], defines the HVAC peak electrical demand.\n",
    "\n",
    "- **Peak gas demand**:reported with units of [kW/m2], defines the HVAC peak gas demand.\n",
    "\n",
    "- **Peak district heating demand**:reported with units of [kW/m2], defines the HVAC peak district heating demand.\n",
    "\n",
    "- **Cost**: reported with units of [USD/m2] or [EUR/m2], defines the operational cost associated with the HVAC energy usage.\n",
    "\n",
    "- **Emissions**: reported with units of [kgCO2/m2], defines the CO2 emissions from the HVAC energy usage.\n",
    "\n",
    "- **Computational time ratio**: defines the average ratio between the controller computation time and the test simulation control step. The controller computation time is measured as the time between two emulator advances.\n",
    "\n",
    "The warmup period is not taken into account for the calculation of the KPIs.\n"
   ]
  },
  {
   "cell_type": "code",
   "execution_count": 11,
   "metadata": {},
   "outputs": [
    {
     "data": {
      "text/plain": [
       "{'tdis_tot': 5.687288484421467,\n",
       " 'idis_tot': 1221.6529527806554,\n",
       " 'ener_tot': 3.7227262062358055,\n",
       " 'cost_tot': 0.0157791922893377,\n",
       " 'emis_tot': 0.785590772991245,\n",
       " 'pele_tot': 0.010216143907980911,\n",
       " 'pgas_tot': 0.12133848299596474,\n",
       " 'pdih_tot': None,\n",
       " 'time_rat': None}"
      ]
     },
     "execution_count": 11,
     "metadata": {},
     "output_type": "execute_result"
    }
   ],
   "source": [
    "kpis_bas = requests.get('{0}/kpi/{1}'.format(url, testid)).json()['payload']\n",
    "kpis_bas"
   ]
  },
  {
   "attachments": {},
   "cell_type": "markdown",
   "metadata": {},
   "source": [
    "### Query graph"
   ]
  },
  {
   "cell_type": "code",
   "execution_count": 12,
   "metadata": {},
   "outputs": [
    {
     "name": "stdout",
     "output_type": "stream",
     "text": [
      "['fcu_reaPFan_y', 'fcu_reaPHea_y', 'fcu_reaPCoo_y', 'fcu_reaPHea_y']\n",
      "['con_oveTSetHea_u', 'con_oveTSetCoo_u', 'zon_reaTRooAir_y']\n",
      "['LowerSetp[1]', 'UpperSetp[1]', 'Occupancy[1]']\n"
     ]
    }
   ],
   "source": [
    "import rdflib\n",
    "g = rdflib.Graph()\n",
    "g.parse(graph_path)\n",
    "\n",
    "query = f\"\"\"\n",
    "PREFIX brick: <https://brickschema.org/schema/Brick#>\n",
    "PREFIX ref: <https://brickschema.org/schema/Brick/ref#>\n",
    "SELECT ?Epower_point ?Tpower_point WHERE {{\n",
    "    OPTIONAL {{\n",
    "    ?Epoint a brick:Electric_Power_Sensor ;\n",
    "        ref:hasExternalReference/ref:hasTimeseriesId ?Epower_point .}}\n",
    "\n",
    "    OPTIONAL {{\n",
    "    ?Tpoint a brick:Thermal_Power_Sensor ;\n",
    "        ref:hasExternalReference/ref:hasTimeseriesId ?Tpower_point .}}    \n",
    "\n",
    "}}\n",
    "\"\"\"\n",
    "list_power_measurement = []\n",
    "# Execute the query and process the results\n",
    "for row in g.query(query):\n",
    "    Epower_point = row[0]\n",
    "    Tpower_point = row[1]\n",
    "    list_power_measurement.append(Epower_point.value)\n",
    "    if Tpower_point:\n",
    "        list_power_measurement.append(Tpower_point.value)\n",
    "    # Do something with power_point, e.g., print it or add to a list\n",
    "print(list_power_measurement)\n",
    "\n",
    "query = f\"\"\"\n",
    "PREFIX brick: <https://brickschema.org/schema/Brick#>\n",
    "PREFIX ref: <https://brickschema.org/schema/Brick/ref#>\n",
    "SELECT ?zone_set_temp_heat_point ?zone_set_temp_cool_point ?zone_set_temp_point ?zone_temp_point WHERE {{\n",
    "    \n",
    "    ?zone a brick:Zone ;\n",
    "    brick:hasPoint ?TZon, ?TSetHeaZon, ?TSetCooZon, ?TSetZon .\n",
    "    \n",
    "    ?TZon a brick:Zone_Air_Temperature_Sensor ;\n",
    "        ref:hasExternalReference/ref:hasTimeseriesId ?zone_temp_point .\n",
    "    \n",
    "    OPTIONAL {{\n",
    "    ?TSetHeaZon a brick:Zone_Air_Heating_Temperature_Setpoint;\n",
    "        ref:hasExternalReference/ref:hasTimeseriesId ?zone_set_temp_heat_point .}}\n",
    "\n",
    "    OPTIONAL {{\n",
    "    ?TSetCooZon a brick:Zone_Air_Cooling_Temperature_Setpoint;\n",
    "        ref:hasExternalReference/ref:hasTimeseriesId ?zone_set_temp_cool_point .}}\n",
    "\n",
    "    OPTIONAL {{\n",
    "    ?TSetZon a brick:Zone_Air_Temperature_Setpoint;\n",
    "        ref:hasExternalReference/ref:hasTimeseriesId ?zone_set_temp_point .}}  \n",
    "\n",
    "}} GROUP BY ?zone\n",
    "\"\"\"\n",
    "list_temp_measurement = []\n",
    "# Execute the query and process the results\n",
    "for row in g.query(query):\n",
    "    zone_set_temp_heat_point = row[0]\n",
    "    zone_set_temp_cool_point = row[1]\n",
    "    zone_set_temp_point = row[2]\n",
    "    zone_temp_point = row[3]\n",
    "    if zone_set_temp_heat_point != None:\n",
    "       list_temp_measurement.append(zone_set_temp_heat_point.value)\n",
    "    if zone_set_temp_cool_point != None:\n",
    "        list_temp_measurement.append(zone_set_temp_cool_point.value)\n",
    "    if zone_set_temp_point != None:\n",
    "        list_temp_measurement.append(zone_set_temp_point.value)\n",
    "    if zone_temp_point != None:\n",
    "        list_temp_measurement.append(zone_temp_point.value)\n",
    "    # Do something with power_point, e.g., print it or add to a list\n",
    "print(list_temp_measurement)\n",
    "\n",
    "list_all_measurement = list_power_measurement + list_temp_measurement\n",
    "\n",
    "\n",
    "query = f\"\"\"\n",
    "PREFIX brick: <https://brickschema.org/schema/Brick#>\n",
    "PREFIX ref: <https://brickschema.org/schema/Brick/ref#>\n",
    "SELECT ?set_temp_min_point ?set_temp_max_point ?occ_sensor_point WHERE {{\n",
    "    \n",
    "    ?zone a brick:Zone ;\n",
    "    brick:hasPoint ?TSetMin, ?TSetMax, ?Occ .\n",
    "    \n",
    "    ?TSetMin a brick:Min_Air_Temperature_Setpoint ;\n",
    "        ref:hasExternalReference/ref:hasTimeseriesId ?set_temp_min_point .\n",
    "\n",
    "    ?TSetMax a brick:Max_Air_Temperature_Setpoint ;\n",
    "        ref:hasExternalReference/ref:hasTimeseriesId ?set_temp_max_point .\n",
    "\n",
    "    ?Occ a brick:Occupancy_Sensor ;\n",
    "        ref:hasExternalReference/ref:hasTimeseriesId ?occ_sensor_point .\n",
    "\n",
    "}} GROUP BY ?zone\n",
    "\"\"\"\n",
    "list_forecast = []\n",
    "# Execute the query and process the results\n",
    "for row in g.query(query):\n",
    "    set_temp_min_point = row[0]\n",
    "    set_temp_max_point = row[1]\n",
    "    occ_sensor_point = row[2]\n",
    "    if set_temp_min_point != None:\n",
    "        list_forecast.append(set_temp_min_point.value)\n",
    "    if set_temp_max_point != None:\n",
    "        list_forecast.append(set_temp_max_point.value)\n",
    "    if occ_sensor_point != None:\n",
    "        list_forecast.append(occ_sensor_point.value)\n",
    "    # Do something with power_point, e.g., print it or add to a list\n",
    "print(list_forecast)\n"
   ]
  },
  {
   "cell_type": "markdown",
   "metadata": {},
   "source": [
    "### Export Baseline Results"
   ]
  },
  {
   "cell_type": "code",
   "execution_count": 13,
   "metadata": {},
   "outputs": [
    {
     "name": "stdout",
     "output_type": "stream",
     "text": [
      "Baseline data has been exported to data.csv successfully.\n"
     ]
    }
   ],
   "source": [
    "# Export baseline results\n",
    "import numpy as np\n",
    "\n",
    "\n",
    "df_pow = pd.DataFrame()\n",
    "for point in list_power_measurement:\n",
    "        args = {'point_names':point,\n",
    "                'start_time':start_time_days*24*3600, \n",
    "                'final_time':np.inf}\n",
    "        pow = requests.put('{0}/results/{1}'.format(url, testid), \n",
    "                           data=args).json()['payload']\n",
    "        df_pow = pd.concat((df_pow,pd.DataFrame(data=pow[point], \n",
    "                            index=pow['time'],columns=[point])), axis=1)\n",
    "df_pow.index.name = 'time'\n",
    "\n",
    "# Export DataFrame to CSV file\n",
    "\n",
    "csv_filepower_path = os.path.join(os.getcwd(), f'testcase_{testcase}', f'results_{control}', 'default_scenario','baseline_powerData.csv')\n",
    "df_pow.to_csv(csv_filepower_path)\n",
    "\n",
    "csv_fileschedule_path = os.path.join(os.getcwd(), f'testcase_{testcase}', f'results_{control}', 'default_scenario','scheduleData.csv')\n",
    "df_f_single_day.to_csv(csv_fileschedule_path)\n",
    "\n",
    "\n",
    "\n",
    "df_temp = pd.DataFrame()\n",
    "for tpoint in list_temp_measurement:\n",
    "        args = {'point_names':tpoint,\n",
    "                'start_time':start_time_days*24*3600, \n",
    "                'final_time':np.inf}\n",
    "        temp = requests.put('{0}/results/{1}'.format(url, testid), \n",
    "                           data=args).json()['payload']\n",
    "        df_temp = pd.concat((df_temp,pd.DataFrame(data=temp[tpoint], \n",
    "                            index=temp['time'],columns=[tpoint])), axis=1)\n",
    "df_temp.index.name = 'time'\n",
    "\n",
    "# Export DataFrame to CSV file\n",
    "csv_fileTemp_path = os.path.join(os.getcwd(), f'testcase_{testcase}', f'results_{control}', 'default_scenario','baseline_tempData.csv')\n",
    "df_temp.to_csv(csv_fileTemp_path)\n",
    "\n",
    "\n",
    "df_all = pd.DataFrame()\n",
    "for tpoint in list_all_measurement:\n",
    "        args = {'point_names':tpoint,\n",
    "                'start_time':start_time_days*24*3600, \n",
    "                'final_time':np.inf}\n",
    "        all = requests.put('{0}/results/{1}'.format(url, testid), \n",
    "                           data=args).json()['payload']\n",
    "        df_all = pd.concat((df_all,pd.DataFrame(data=all[tpoint], \n",
    "                            index=all['time'],columns=[tpoint])), axis=1)\n",
    "df_all.index.name = 'time'\n",
    "\n",
    "# Export DataFrame to CSV file\n",
    "csv_fileTemp_path = os.path.join(os.getcwd(), f'testcase_{testcase}', f'results_{control}', 'default_scenario','baseline.csv')\n",
    "df_all.to_csv(csv_fileTemp_path)\n",
    "\n",
    "\n",
    "print(\"Baseline data has been exported to data.csv successfully.\")\n"
   ]
  },
  {
   "attachments": {},
   "cell_type": "markdown",
   "metadata": {},
   "source": [
    "### Assessing a New Control Strategy\n",
    "For assessing a new control strategy, we need to initialize the test case in the same scenario used to obtain the baseline controller KPIs, and here we obtain the control step as defined in the setting simulation parameters part. After that, we instantiate the controller and define a simulation loop using the BOPTEST API. Note that the test case will return an empty dictionary when the testing period has elapsed, such that we can loop over the returned measurements without having to infer when the simulation time should end."
   ]
  },
  {
   "cell_type": "code",
   "execution_count": 14,
   "metadata": {},
   "outputs": [
    {
     "name": "stdout",
     "output_type": "stream",
     "text": [
      "Simulation time [elapsed days] = 14.00\n",
      "-------------------------------------------------------------------\n",
      "30067200 900\n",
      "{0: 0}\n",
      "price_threshold_value 0.0378966\n",
      "range(0, 1) ['urn:bldg/hvacZone'] ['zon_reaTRooAir_y'] [] ['con_oveTSetHea_u'] ['con_oveTSetCoo_u'] ['LowerSetp[1]'] ['UpperSetp[1]'] ['Occupancy[1]'] [] [] [] None None None\n",
      "heat\n",
      "TSetHeaZon 288.15 TSetHeaZon_baseline [288.15, 288.15, 288.15, 288.15, 288.15, 288.15, 288.15, 288.15, 288.15, 288.15, 288.15, 288.15, 288.15, 288.15, 288.15, 288.15, 288.15, 288.15, 288.15, 288.15, 288.15, 288.15, 288.15, 288.15, 288.15, 288.15, 288.15, 288.15, 288.15, 288.15, 288.15, 288.15, 288.15, 288.15, 288.15, 288.15, 288.15, 288.15, 288.15, 288.15, 288.15, 288.15, 288.15, 288.15, 288.15, 288.15, 288.15, 288.15, 288.15, 288.15, 288.15, 288.15, 288.15, 288.15, 288.15, 288.15, 288.15, 288.15, 288.15, 288.15, 288.15, 288.15, 288.15, 288.15, 288.15, 288.15, 288.15, 288.15, 288.15, 288.15, 288.15, 288.15, 288.15, 288.15, 288.15, 288.15, 288.15, 288.15, 288.15, 288.15, 288.15, 288.15, 288.15, 288.15, 288.15, 288.15, 288.15, 288.15, 288.15, 288.15, 288.15, 288.15, 288.15, 288.15, 288.15, 288.15]\n",
      "TSetCooZon 303.15 TSetCooZon_baseline [303.15, 303.15, 303.15, 303.15, 303.15, 303.15, 303.15, 303.15, 303.15, 303.15, 303.15, 303.15, 303.15, 303.15, 303.15, 303.15, 303.15, 303.15, 303.15, 303.15, 303.15, 303.15, 303.15, 303.15, 303.15, 303.15, 303.15, 303.15, 303.15, 303.15, 303.15, 303.15, 303.15, 303.15, 303.15, 303.15, 303.15, 303.15, 303.15, 303.15, 303.15, 303.15, 303.15, 303.15, 303.15, 303.15, 303.15, 303.15, 303.15, 303.15, 303.15, 303.15, 303.15, 303.15, 303.15, 303.15, 303.15, 303.15, 303.15, 303.15, 303.15, 303.15, 303.15, 303.15, 303.15, 303.15, 303.15, 303.15, 303.15, 303.15, 303.15, 303.15, 303.15, 303.15, 303.15, 303.15, 303.15, 303.15, 303.15, 303.15, 303.15, 303.15, 303.15, 303.15, 303.15, 303.15, 303.15, 303.15, 303.15, 303.15, 303.15, 303.15, 303.15, 303.15, 303.15, 303.15]\n",
      "TZon 289.9470982067125\n",
      "None None None None None None\n",
      "occupancy_schedule [0, 0, 0, 0, 0, 0, 0, 0, 0, 0, 0, 0, 0, 0, 0, 0, 0, 0, 0, 0, 0, 0, 0, 0, 0, 0, 0, 0, 0, 0, 0, 0, 0, 0, 0, 0, 0, 0, 0, 0, 0, 0, 0, 0, 0, 0, 0, 0, 0, 0, 0, 0, 0, 0, 0, 0, 0, 0, 0, 0, 0, 0, 0, 0, 0, 0, 0, 0, 0, 0, 0, 0, 0, 0, 0, 0, 0, 0, 0, 0, 0, 0, 0, 0, 0, 0, 0, 0, 0, 0, 0, 0, 0, 0, 0, 0]\n",
      "price_schedule [0.0253634, 0.0253634, 0.0253634, 0.0253634, 0.0235197, 0.0235197, 0.0235197, 0.0235197, 0.0233467, 0.0233467, 0.0233467, 0.0233467, 0.0218049, 0.0218049, 0.0218049, 0.0218049, 0.0230837, 0.0230837, 0.0230837, 0.0230837, 0.0266477, 0.0266477, 0.0266477, 0.0266477, 0.0274127, 0.0274127, 0.0274127, 0.0274127, 0.0290843, 0.0290843, 0.0290843, 0.0290843, 0.0310248, 0.0310248, 0.0310248, 0.0310248, 0.0325898, 0.0325898, 0.0325898, 0.0325898, 0.0300768, 0.0300768, 0.0300768, 0.0300768, 0.0283045, 0.0283045, 0.0283045, 0.0283045, 0.0261418, 0.0261418, 0.0261418, 0.0261418, 0.023506, 0.023506, 0.023506, 0.023506, 0.0221477, 0.0221477, 0.0221477, 0.0221477, 0.0214132, 0.0214132, 0.0214132, 0.0214132, 0.0243092, 0.0243092, 0.0243092, 0.0243092, 0.0319107, 0.0319107, 0.0319107, 0.0319107, 0.0281374, 0.0281374, 0.0281374, 0.0281374, 0.0274475, 0.0274475, 0.0274475, 0.0274475, 0.0253956, 0.0253956, 0.0253956, 0.0253956, 0.0251874, 0.0251874, 0.0251874, 0.0251874, 0.0245086, 0.0245086, 0.0245086, 0.0245086, 0.0221271, 0.0221271, 0.0221271, 0.0221271, 0.0219713]\n",
      "0 0\n",
      "no shed, baseline setpoint {'con_oveTSetHea_u': 288.15, 'con_oveTSetCoo_u': 303.15}\n",
      "{}\n",
      "new shed counter 0\n",
      "{'con_oveTSetHea_u': 288.15, 'con_oveTSetCoo_u': 303.15}\n",
      "ratchet []\n",
      "rebound []\n",
      "rebound []\n",
      "[]\n",
      "[]\n",
      "[]\n",
      "{'con_oveTSetHea_u': 288.15, 'con_oveTSetHea_activate': 1, 'con_oveTSetCoo_u': 303.15, 'con_oveTSetCoo_activate': 1}\n"
     ]
    }
   ],
   "source": [
    "import json\n",
    "\n",
    "# Initialize scenario\n",
    "y = requests.put('{0}/scenario/{1}'.format(url, testid), \n",
    "                 data={'time_period': time_period,\n",
    "                       'electricity_price':electricity_price}).json()['payload']['time_period']\n",
    "\n",
    "# Set control step\n",
    "requests.put('{0}/step/{1}'.format(url, testid), data={'step':step})\n",
    "\n",
    "# Get step\n",
    "s = requests.get('{0}/step/{1}'.format(url, testid)).json()['payload']\n",
    "\n",
    "# Instantiate controller\n",
    "con = bt_interface\n",
    "\n",
    "f_price = requests.put('{0}/forecast/{1}'.format(url, testid), \n",
    "                    data={'point_names': [electricity_price_identifier], 'horizon':14*24*3600, 'interval':1*3600}).json()['payload'] \n",
    "    \n",
    "\n",
    "# Simulation loop\n",
    "from IPython.display import clear_output\n",
    "while y:\n",
    "\n",
    "    # Clear the display output at each step\n",
    "    clear_output(wait=True)\n",
    "\n",
    "    current_time = y['time']\n",
    "\n",
    "    # Print the current operative temperature and simulation time\n",
    "    simulation_time_days = y['time']/3600/24\n",
    "    print('Simulation time [elapsed days] = {:.2f}'.format((simulation_time_days - \\\n",
    "                                                    start_time_days)))\n",
    "    print('-------------------------------------------------------------------')\n",
    "\n",
    "    # Get forecast\n",
    "    # points = requests.get('{0}/forecast_points/{1}'.format(url, testid))\n",
    "\n",
    "    # # Parse the response content into a dictionary\n",
    "    # point_data = json.loads(points.content)['payload']\n",
    "\n",
    "    # # Extract the point names from the dictionary\n",
    "    # point_names = [p for p in point_data.keys()]\n",
    "\n",
    "    point_names = [electricity_price_identifier] + list_forecast\n",
    "\n",
    "    # Use the point names as input for the PUT /forecast endpoint\n",
    "    f = requests.put('{0}/forecast/{1}'.format(url, testid), \n",
    "                    data={'point_names': point_names, 'horizon':24*3600, 'interval':1*step}).json()['payload'] \n",
    "    \n",
    "    # Compute control signal (measurements, forecast, step)\n",
    "    u = con.control_agent(y, f, s, start_time_days, current_time, f_price)\n",
    "\n",
    "    # Advance simulation with control signal\n",
    "    y = requests.post('{0}/advance/{1}'.format(url, testid), data=u).json()['payload']    \n"
   ]
  },
  {
   "attachments": {},
   "cell_type": "markdown",
   "metadata": {},
   "source": [
    "### Export Flexible Results"
   ]
  },
  {
   "cell_type": "code",
   "execution_count": 15,
   "metadata": {},
   "outputs": [
    {
     "name": "stdout",
     "output_type": "stream",
     "text": [
      "Flexible data has been exported to data.csv successfully.\n"
     ]
    }
   ],
   "source": [
    "# Export DF results\n",
    "import numpy as np\n",
    "\n",
    "\n",
    "df_pow = pd.DataFrame()\n",
    "for point in list_power_measurement:\n",
    "        args = {'point_names':point,\n",
    "                'start_time':start_time_days*24*3600, \n",
    "                'final_time':np.inf}\n",
    "        pow = requests.put('{0}/results/{1}'.format(url, testid), \n",
    "                           data=args).json()['payload']\n",
    "        df_pow = pd.concat((df_pow,pd.DataFrame(data=pow[point], \n",
    "                            index=pow['time'],columns=[point])), axis=1)\n",
    "df_pow.index.name = 'time'\n",
    "\n",
    "# Export DataFrame to CSV file\n",
    "csv_filepower_path = os.path.join(os.getcwd(), f'testcase_{testcase}', f'results_{control}', 'default_scenario','flexible_powerData.csv')\n",
    "df_pow.to_csv(csv_filepower_path)\n",
    "\n",
    "\n",
    "\n",
    "df_temp = pd.DataFrame()\n",
    "for tpoint in list_temp_measurement:\n",
    "        args = {'point_names':tpoint,\n",
    "                'start_time':start_time_days*24*3600, \n",
    "                'final_time':np.inf}\n",
    "        temp = requests.put('{0}/results/{1}'.format(url, testid), \n",
    "                           data=args).json()['payload']\n",
    "        df_temp = pd.concat((df_temp,pd.DataFrame(data=temp[tpoint], \n",
    "                            index=temp['time'],columns=[tpoint])), axis=1)\n",
    "df_temp.index.name = 'time'\n",
    "\n",
    "# Export DataFrame to CSV file\n",
    "csv_fileTemp_path = os.path.join(os.getcwd(), f'testcase_{testcase}', f'results_{control}', 'default_scenario','flexible_tempData.csv')\n",
    "df_temp.to_csv(csv_fileTemp_path)\n",
    "\n",
    "print(\"Flexible data has been exported to data.csv successfully.\")"
   ]
  },
  {
   "attachments": {},
   "cell_type": "markdown",
   "metadata": {},
   "source": [
    "Get KPIs from Test Control \n"
   ]
  },
  {
   "cell_type": "code",
   "execution_count": 16,
   "metadata": {},
   "outputs": [
    {
     "name": "stdout",
     "output_type": "stream",
     "text": [
      "{'tdis_tot': 79.00139674165719, 'idis_tot': 1220.7152044692407, 'ener_tot': 3.40154959795667, 'cost_tot': 0.014042789506681471, 'emis_tot': 0.7149108975163123, 'pele_tot': 0.009871271000767325, 'pgas_tot': 0.12531074702289055, 'pdih_tot': None, 'time_rat': 0.0019479520548379703}\n"
     ]
    }
   ],
   "source": [
    "\n",
    "# Get and print the test control KPIs\n",
    "kpis_con = requests.get('{0}/kpi/{1}'.format(url, testid)).json()['payload']\n",
    "print(kpis_con)\n",
    "\n",
    "import csv\n",
    "\n",
    "# Create a list of field names (keys)\n",
    "field_names = list(kpis_con.keys())\n",
    "\n",
    "# Open a file in write mode\n",
    "with open(os.path.join(os.getcwd(), f'testcase_{testcase}', f'results_{control}', 'default_scenario','kpis_con.csv'), 'w') as csvfile:\n",
    "    # Create a writer object\n",
    "    writer = csv.DictWriter(csvfile, fieldnames=field_names)\n",
    "    # Write the header row\n",
    "    writer.writeheader()\n",
    "    # Write the dictionary as a row\n",
    "    writer.writerow(kpis_con)\n"
   ]
  },
  {
   "attachments": {},
   "cell_type": "markdown",
   "metadata": {},
   "source": [
    "### Stopping the Test \n",
    "We can stop the test case instance in order to free up web-service resources for other test cases. "
   ]
  },
  {
   "cell_type": "code",
   "execution_count": 17,
   "metadata": {},
   "outputs": [],
   "source": [
    "# Set to true if want to stop test case\n",
    "stop = False\n",
    "if stop:\n",
    "  requests.put('{0}/stop/{1}'.format(url, testid))\n"
   ]
  }
 ],
 "metadata": {
  "kernelspec": {
   "display_name": "Python 3",
   "language": "python",
   "name": "python3"
  },
  "language_info": {
   "codemirror_mode": {
    "name": "ipython",
    "version": 3
   },
   "file_extension": ".py",
   "mimetype": "text/x-python",
   "name": "python",
   "nbconvert_exporter": "python",
   "pygments_lexer": "ipython3",
   "version": "3.12.4"
  },
  "orig_nbformat": 4,
  "vscode": {
   "interpreter": {
    "hash": "9eb2023bd8e50475b3a908d6d38ba019af9552830ebc9011113c4cbaf19e0ed7"
   }
  }
 },
 "nbformat": 4,
 "nbformat_minor": 2
}
