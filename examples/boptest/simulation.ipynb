{
 "cells": [
  {
   "attachments": {},
   "cell_type": "markdown",
   "metadata": {},
   "source": [
    "### Run web-hosted BOPTEST simulation \n",
    "\n",
    "For running BOPTEST without the need of local downloads or installations, this simulation uses the BOPTEST  web-hosted environment (BOPTEST-Service). This publicly accessible service allows for the deployment of the test cases in the cloud, enabling interactions via the BOPTEST API. This notebook follows the steps outlined in [this](https://github.com/ibpsa/project1-boptest/blob/master/docs/workshops/BS21Workshop_20210831/Introduction_to_the_BOPTEST_framework.ipynb) BOPTEST tutorial.  \n",
    "\n",
    "Prior to initiating the simulation, begin by importing the application and configuration files, and selecting the test case and simulation parameters."
   ]
  },
  {
   "cell_type": "markdown",
   "metadata": {},
   "source": [
    "### Selecting a  Control, Test Case and Simulation Parameters\n",
    "We can select and launch a test case from the repository of [currently available test cases](https://ibpsa.github.io/project1-boptest/testcases/index.html). The simulation paramenters such as the scenario ones (time period and electricity price) can be chosen from the [test cases directory](https://github.com/ibpsa/project1-boptest/tree/master/testcases). Here we can also define the simulation step in seconds. "
   ]
  },
  {
   "cell_type": "code",
   "execution_count": 29,
   "metadata": {},
   "outputs": [],
   "source": [
    "# Select control and test case identifier \n",
    "import sys\n",
    "sys.path.append(\"..\")\n",
    "\n",
    "from BOPTest_interface_os_c1_1_zone_temp_adjs_rat import (\n",
    "    BOPTestControls,\n",
    "    BOPTestControlFunctions,\n",
    "    BOPTestInterface\n",
    ")\n",
    "\n",
    "control = 'os_c1_1_zone_temp_adjs_rat'\n",
    "testcase = 'singlezone_commercial_hydronic'\n",
    "graph_path = 'C:/Users/Flavinha/DFLEXLIBS/DFLEXLIBS/examples/boptest/testcase_singlezone_commercial_hydronic/singlezone_commercial_hydronic.ttl'\n",
    "\n",
    "# Simulation parameters (choosen from https://github.com/ibpsa/project1-boptest/tree/master/testcases)\n",
    "# scenario\n",
    "time_period = 'peak_heat_day'\n",
    "electricity_price ='highly_dynamic'\n",
    "\n",
    "electricity_price_identifier = 'PriceElectricPowerHighlyDynamic'\n",
    "\n",
    "# Set simulation step \n",
    "step = 900 # 15 min\n"
   ]
  },
  {
   "cell_type": "markdown",
   "metadata": {},
   "source": [
    "### Import Application \n",
    "Import application by changing the BOPTest_interface"
   ]
  },
  {
   "cell_type": "code",
   "execution_count": 30,
   "metadata": {},
   "outputs": [],
   "source": [
    "from utility_functions import get_hvac_signals\n",
    "\n",
    "from utility_functions.get_price_threshold import get_price_threshold\n",
    "\n",
    "class TestCaseInterface(BOPTestInterface):\n",
    "    def __init__(self, controls, config_path, hvac_signal_function):\n",
    "        super().__init__(controls, config_path)\n",
    "        self.hvac_signal_function = hvac_signal_function\n",
    "\n",
    "    def get_hvac_signals(self, *args):\n",
    "        return self.hvac_signal_function(*args)\n",
    "    \n",
    "    def get_price_threshold(self, *args):\n",
    "        return get_price_threshold(*args)\n",
    "    \n",
    "def create_application(config_path, hvac_signal_function_name) -> BOPTestInterface:\n",
    "    '''takes a config file and returns an instantiated TestCaseInterface\n",
    "    \n",
    "    Parameters\n",
    "    ----------\n",
    "        config_path : str\n",
    "            the path to a configuration file for instantiating a bestest air shed application \n",
    "    Returns\n",
    "    -------\n",
    "        application : TestCaseInterface\n",
    "            returns an instantiated bestest air interface with shedding controls\n",
    "'''\n",
    "    \n",
    "    functions = BOPTestControlFunctions()\n",
    "    controls = BOPTestControls(functions)\n",
    "    hvac_signal_function = getattr(get_hvac_signals, hvac_signal_function_name)\n",
    "    \n",
    "    # Instantiate the TestCaseInterface with the controls, config_path, and hvac_signal_function\n",
    "    application = TestCaseInterface(controls, config_path, hvac_signal_function)\n",
    "    return application\n"
   ]
  },
  {
   "attachments": {},
   "cell_type": "markdown",
   "metadata": {},
   "source": [
    "### Instantiate Application \n",
    "Instantiate the test case interface with shedding controls."
   ]
  },
  {
   "cell_type": "code",
   "execution_count": 31,
   "metadata": {},
   "outputs": [
    {
     "name": "stdout",
     "output_type": "stream",
     "text": [
      "(rdflib.term.URIRef('urn:bldg/hvacZone'), rdflib.term.Literal('reaTZon_y'), rdflib.term.Literal('LowerSetp[1]'), rdflib.term.Literal('UpperSetp[1]'), rdflib.term.Literal('Occupancy[1]'), None, None, rdflib.term.Literal('oveTZonSet_u'), None, None, None, None)\n"
     ]
    }
   ],
   "source": [
    "import os\n",
    "config_path = os.path.join(os.getcwd(), f'testcase_{testcase}', f'config_{control}.yml')\n",
    "function_name = 'get_' + testcase + '_hvac_signals'\n",
    "\n",
    "bt_interface = create_application(config_path, function_name)"
   ]
  },
  {
   "attachments": {},
   "cell_type": "markdown",
   "metadata": {},
   "source": [
    "### Launch the Selected Test Case\n",
    "First, import the Python `requests` library so that we can make HTTP requests to the BOPTEST API at the address indicated by the `url`. Then, use the `POST /testcases/<test_case_name>/select` BOPTEST API endpoint to launch the test case and receive a corresponding `testid`. While the url is the common gateway for everyone to access the BOPTEST web-service, the `testid` is a unique identifier for you to address the test case that you have selected and launched."
   ]
  },
  {
   "cell_type": "code",
   "execution_count": 32,
   "metadata": {},
   "outputs": [],
   "source": [
    "import requests\n",
    "url = \"https://api.boptest.net\"\n",
    "testid = \\\n",
    "    requests.post('{0}/testcases/{1}/select'.format(url,testcase)).json()['testid']\n"
   ]
  },
  {
   "attachments": {},
   "cell_type": "markdown",
   "metadata": {},
   "source": [
    "Once we have successfully obtained the `testid`, it is possible to start interacting with the selected test case using the rest of the BOPTEST API. For example, use the `GET /name` BOPTEST API endpoint, along with the testid, to request the name of the chosen test case."
   ]
  },
  {
   "cell_type": "code",
   "execution_count": 33,
   "metadata": {},
   "outputs": [
    {
     "name": "stdout",
     "output_type": "stream",
     "text": [
      "{'name': 'singlezone_commercial_hydronic'}\n"
     ]
    }
   ],
   "source": [
    "# Get test case name\n",
    "name = requests.get('{0}/name/{1}'.format(url, testid)).json()['payload']\n",
    "print(name)"
   ]
  },
  {
   "attachments": {},
   "cell_type": "markdown",
   "metadata": {},
   "source": [
    "### Getting Control Input and Measurement Points\n",
    "While control input and measurement points are described in the [documentation](https://ibpsa.github.io/project1-boptest/testcases/), they are also available to retreive from the BOPTEST API. This is especially useful to store for later when requesting data for a specific point.\n",
    "\n",
    "Retrieve the control input and measurement outputs using the `GET /inputs` and `GET /measurements` BOPTEST API endpoints."
   ]
  },
  {
   "cell_type": "code",
   "execution_count": 34,
   "metadata": {},
   "outputs": [
    {
     "name": "stdout",
     "output_type": "stream",
     "text": [
      "TEST CASE INPUTS ---------------------------------------------\n",
      "dict_keys(['ahu_oveFanRet_activate', 'ahu_oveFanRet_u', 'ahu_oveFanSup_activate', 'ahu_oveFanSup_u', 'oveCO2ZonSet_activate', 'oveCO2ZonSet_u', 'ovePum_activate', 'ovePum_u', 'oveTSupSet_activate', 'oveTSupSet_u', 'oveTZonSet_activate', 'oveTZonSet_u', 'oveValCoi_activate', 'oveValCoi_u', 'oveValRad_activate', 'oveValRad_u'])\n",
      "TEST CASE MEASUREMENTS ---------------------------------------\n",
      "dict_keys(['ahu_reaFloSupAir_y', 'ahu_reaPFanRet_y', 'ahu_reaPFanSup_y', 'ahu_reaTCoiSup_y', 'ahu_reaTHeaRec_y', 'ahu_reaTRetAir_y', 'ahu_reaTSupAir_y', 'reaCO2Zon_y', 'reaOcc_y', 'reaPEle_y', 'reaPFan_y', 'reaPPum_y', 'reaQHea_y', 'reaTCoiRet_y', 'reaTZon_y', 'weaSta_reaWeaCeiHei_y', 'weaSta_reaWeaCloTim_y', 'weaSta_reaWeaHDifHor_y', 'weaSta_reaWeaHDirNor_y', 'weaSta_reaWeaHGloHor_y', 'weaSta_reaWeaHHorIR_y', 'weaSta_reaWeaLat_y', 'weaSta_reaWeaLon_y', 'weaSta_reaWeaNOpa_y', 'weaSta_reaWeaNTot_y', 'weaSta_reaWeaPAtm_y', 'weaSta_reaWeaRelHum_y', 'weaSta_reaWeaSolAlt_y', 'weaSta_reaWeaSolDec_y', 'weaSta_reaWeaSolHouAng_y', 'weaSta_reaWeaSolTim_y', 'weaSta_reaWeaSolZen_y', 'weaSta_reaWeaTBlaSky_y', 'weaSta_reaWeaTDewPoi_y', 'weaSta_reaWeaTDryBul_y', 'weaSta_reaWeaTWetBul_y', 'weaSta_reaWeaWinDir_y', 'weaSta_reaWeaWinSpe_y'])\n"
     ]
    }
   ],
   "source": [
    "# Get inputs available\n",
    "inputs = requests.get('{0}/inputs/{1}'.format(url, testid)).json()['payload']\n",
    "print('TEST CASE INPUTS ---------------------------------------------')\n",
    "print(inputs.keys())\n",
    "# Get measurements available\n",
    "measurements = requests.get('{0}/measurements/{1}'.format(url, testid)).json()['payload']\n",
    "print('TEST CASE MEASUREMENTS ---------------------------------------')\n",
    "print(measurements.keys())"
   ]
  },
  {
   "attachments": {},
   "cell_type": "markdown",
   "metadata": {},
   "source": [
    "### Initializing a test scenario\n",
    "Select a testing scenario using the `PUT /scenario` BOPTEST API endpoint to allow to test the  controller for a pre-defined period and with predefined conditions. It uses the parameters time_period and electricity_price to set a specific scenario as defined for each test case within their respective [documentation](https://github.com/ibpsa/project1-boptest/tree/master/testcases). "
   ]
  },
  {
   "cell_type": "code",
   "execution_count": 35,
   "metadata": {},
   "outputs": [],
   "source": [
    "scenario_return = requests.put('{0}/scenario/{1}'.format(url, testid),\n",
    "    data={'time_period':time_period,\n",
    "    'electricity_price':electricity_price}).json()['payload']"
   ]
  },
  {
   "attachments": {},
   "cell_type": "markdown",
   "metadata": {},
   "source": [
    "Setting the scenario API call can return the `time_period` as an argument with current time measurements of the simulation intialized to the scenario time period.\n",
    "The variable `start_time_days` refers to the start time of the test period."
   ]
  },
  {
   "cell_type": "code",
   "execution_count": 36,
   "metadata": {},
   "outputs": [],
   "source": [
    "y = scenario_return['time_period']\n",
    "start_time_days = y['time']/24/3600"
   ]
  },
  {
   "attachments": {},
   "cell_type": "markdown",
   "metadata": {},
   "source": [
    "###  Get Forecast Data for Plotting  BOPTEST comfort range\n",
    "\n",
    "Use the `PUT /forecast` BOPTEST API endpoint with parameters point names referring to the list of forecast data needed, as well as horizon and interval in seconds to set a forecast horizon and data interval. This same endpoint is used to retrieve the forecast data, which will start from the current simulation time."
   ]
  },
  {
   "cell_type": "code",
   "execution_count": 37,
   "metadata": {},
   "outputs": [],
   "source": [
    "import pandas as pd\n",
    "df_f_single_day = pd.DataFrame()\n",
    "forecast_points = requests.get('{0}/forecast_points/{1}'.format(url, testid)).json()['payload']\n",
    "list_forecast = list(forecast_points.keys())\n",
    "\n",
    "# Get the forecast data for the specified point names and time horizon\n",
    "f = requests.put('{0}/forecast/{1}'.format(url, testid), \n",
    "             data={'point_names': list_forecast, 'horizon':14*24*3600, 'interval':1*step}).json()['payload']\n",
    "# Create a dataframe from the forecast data\n",
    "df_f_single_day = pd.DataFrame.from_dict(f)\n",
    "    \n",
    "# Set the index of the dataframe to the time field\n",
    "df_f_single_day.set_index('time', inplace=True)\n",
    "    \n",
    "# Print the dataframe\n",
    "#print(df_f_single_day)"
   ]
  },
  {
   "attachments": {},
   "cell_type": "markdown",
   "metadata": {},
   "source": [
    "### Simulating the Baseline Control for Benchmarking\n",
    "Before testing a new controller, we need to simulate the baseline for a defined scenario and evaluate its performance. The baseline can be quickly simulated by setting a long control step and without overwritting any control signal when advancing the simulation. Here, we even set the control step to one year knowing that the simulation is forced to stop at the end of the scenario time period."
   ]
  },
  {
   "cell_type": "code",
   "execution_count": 38,
   "metadata": {},
   "outputs": [
    {
     "data": {
      "text/plain": [
       "{'status': 200,\n",
       " 'message': 'Advanced simulation successfully from 691200.0s to 1900800.0s.',\n",
       " 'payload': {'time': 1900800,\n",
       "  'ahu_reaFloSupAir_y': 1.0389279374828946e-15,\n",
       "  'ahu_reaPFanRet_y': 0,\n",
       "  'ahu_reaPFanSup_y': 0,\n",
       "  'ahu_reaTCoiSup_y': 330.96627342576306,\n",
       "  'ahu_reaTHeaRec_y': 289.1410515059619,\n",
       "  'ahu_reaTRetAir_y': 294.14835474674385,\n",
       "  'ahu_reaTSupAir_y': 294.179535624864,\n",
       "  'reaCO2Zon_y': 559.6071562489708,\n",
       "  'reaOcc_y': 2.4917127071823204,\n",
       "  'reaPEle_y': 224.99523345304766,\n",
       "  'reaPFan_y': 0,\n",
       "  'reaPPum_y': 224.99523345304766,\n",
       "  'reaQHea_y': 49404.00790446175,\n",
       "  'reaTCoiRet_y': 327.3604229269082,\n",
       "  'reaTZon_y': 288.1497340786565,\n",
       "  'weaSta_reaWeaCeiHei_y': 3000,\n",
       "  'weaSta_reaWeaCloTim_y': 1900800,\n",
       "  'weaSta_reaWeaHDifHor_y': 0,\n",
       "  'weaSta_reaWeaHDirNor_y': 0,\n",
       "  'weaSta_reaWeaHGloHor_y': 0,\n",
       "  'weaSta_reaWeaHHorIR_y': 245,\n",
       "  'weaSta_reaWeaLat_y': 0.9709266628844456,\n",
       "  'weaSta_reaWeaLon_y': 0.22113321622768156,\n",
       "  'weaSta_reaWeaNOpa_y': 0.5,\n",
       "  'weaSta_reaWeaNTot_y': 0.6000000000000001,\n",
       "  'weaSta_reaWeaPAtm_y': 101325,\n",
       "  'weaSta_reaWeaRelHum_y': 0.8300000000000001,\n",
       "  'weaSta_reaWeaSolAlt_y': -0.9420669107812976,\n",
       "  'weaSta_reaWeaSolDec_y': -0.34602552291587746,\n",
       "  'weaSta_reaWeaSolHouAng_y': 134.99649179624797,\n",
       "  'weaSta_reaWeaSolTim_y': 1899535.014959388,\n",
       "  'weaSta_reaWeaSolZen_y': 2.512863237576194,\n",
       "  'weaSta_reaWeaTBlaSky_y': 256.3442289597479,\n",
       "  'weaSta_reaWeaTDewPoi_y': 267.45,\n",
       "  'weaSta_reaWeaTDryBul_y': 269.65,\n",
       "  'weaSta_reaWeaTWetBul_y': 268.84348077216293,\n",
       "  'weaSta_reaWeaWinDir_y': 1.3962634015954636,\n",
       "  'weaSta_reaWeaWinSpe_y': 10,\n",
       "  'ahu_oveFanRet_activate': 0,\n",
       "  'ahu_oveFanRet_u': 0,\n",
       "  'ahu_oveFanSup_activate': 0,\n",
       "  'ahu_oveFanSup_u': 0,\n",
       "  'oveCO2ZonSet_activate': 0,\n",
       "  'oveCO2ZonSet_u': 800,\n",
       "  'ovePum_activate': 0,\n",
       "  'ovePum_u': 1,\n",
       "  'oveTSupSet_activate': 0,\n",
       "  'oveTSupSet_u': 294.15,\n",
       "  'oveTZonSet_activate': 0,\n",
       "  'oveTZonSet_u': 288.15,\n",
       "  'oveValCoi_activate': 0,\n",
       "  'oveValCoi_u': 0,\n",
       "  'oveValRad_activate': 0,\n",
       "  'oveValRad_u': 0.00448832787541507}}"
      ]
     },
     "execution_count": 38,
     "metadata": {},
     "output_type": "execute_result"
    }
   ],
   "source": [
    "# Set the control step to one year \n",
    "requests.put('{0}/step/{1}'.format(url, testid), data={'step':365*24*3600})\n",
    "\n",
    "# Advance the simulation with no control overwrite\n",
    "requests.post('{0}/advance/{1}'.format(url, testid), data={}).json()"
   ]
  },
  {
   "attachments": {},
   "cell_type": "markdown",
   "metadata": {},
   "source": [
    "### Getting Core KPI Values\n",
    "To obtain the KPI, calculated based on the emulator performance during a simulation (starting from the initialization), use the `GET /kpi` BOPTEST API endpoint.\n",
    "\n",
    "The core KPIs, those that are calculated for every test case, are defined in BOPTEST to evaluate different aspects of a controller. These are:\n",
    "\n",
    "- **Thermal discomfort**: reported with units of [Kh/zone], defines the cumulative deviation of zone temperatures from upper and lower comfort limits that are predefined within the test case FMU for each zone, averaged over all zones. Air temperature is used for air-based systems and operative temperature is used for radiant systems.\n",
    "\n",
    "- **Indoor Air Quality (IAQ) Discomfort**: reported with units of [ppmh/zone], defines the extent that the CO\n",
    " concentration levels in zones exceed bounds of the acceptable concentration level, which are predefined within the test case FMU for each zone, averaged over all zones.\n",
    "\n",
    "- **Energy Use**: reported with units of [kWh/m2], defines the HVAC energy usage.\n",
    "\n",
    "- **Peak electrical demand**:reported with units of [kW/m2], defines the HVAC peak electrical demand.\n",
    "\n",
    "- **Peak gas demand**:reported with units of [kW/m2], defines the HVAC peak gas demand.\n",
    "\n",
    "- **Peak district heating demand**:reported with units of [kW/m2], defines the HVAC peak district heating demand.\n",
    "\n",
    "- **Cost**: reported with units of [USD/m2] or [EUR/m2], defines the operational cost associated with the HVAC energy usage.\n",
    "\n",
    "- **Emissions**: reported with units of [kgCO2/m2], defines the CO2 emissions from the HVAC energy usage.\n",
    "\n",
    "- **Computational time ratio**: defines the average ratio between the controller computation time and the test simulation control step. The controller computation time is measured as the time between two emulator advances.\n",
    "\n",
    "The warmup period is not taken into account for the calculation of the KPIs.\n"
   ]
  },
  {
   "cell_type": "code",
   "execution_count": 39,
   "metadata": {},
   "outputs": [
    {
     "data": {
      "text/plain": [
       "{'tdis_tot': 7.995222085010505,\n",
       " 'idis_tot': 5.423390226236728,\n",
       " 'ener_tot': 3.216796741203613,\n",
       " 'cost_tot': 0.26333179357299513,\n",
       " 'emis_tot': 0.3835816361039315,\n",
       " 'pele_tot': 0.004907797325142573,\n",
       " 'pgas_tot': None,\n",
       " 'pdih_tot': 0.08966856983946767,\n",
       " 'time_rat': None}"
      ]
     },
     "execution_count": 39,
     "metadata": {},
     "output_type": "execute_result"
    }
   ],
   "source": [
    "kpis_bas = requests.get('{0}/kpi/{1}'.format(url, testid)).json()['payload']\n",
    "kpis_bas"
   ]
  },
  {
   "attachments": {},
   "cell_type": "markdown",
   "metadata": {},
   "source": [
    "### Query graph"
   ]
  },
  {
   "cell_type": "code",
   "execution_count": 40,
   "metadata": {},
   "outputs": [
    {
     "name": "stdout",
     "output_type": "stream",
     "text": [
      "['ahu_reaPFanRet_y', 'reaQHea_y', 'ahu_reaPFanSup_y', 'reaQHea_y', 'reaPEle_y', 'reaQHea_y', 'reaPFan_y', 'reaQHea_y', 'reaPPum_y', 'reaQHea_y']\n",
      "['oveTZonSet_u', 'reaTZon_y']\n",
      "['LowerSetp[1]', 'UpperSetp[1]', 'Occupancy[1]']\n"
     ]
    }
   ],
   "source": [
    "import rdflib\n",
    "g = rdflib.Graph()\n",
    "g.parse(graph_path)\n",
    "\n",
    "query = f\"\"\"\n",
    "PREFIX brick: <https://brickschema.org/schema/Brick#>\n",
    "PREFIX ref: <https://brickschema.org/schema/Brick/ref#>\n",
    "SELECT ?Epower_point ?Tpower_point WHERE {{\n",
    "    OPTIONAL {{\n",
    "    ?Epoint a brick:Electric_Power_Sensor ;\n",
    "        ref:hasExternalReference/ref:hasTimeseriesId ?Epower_point .}}\n",
    "\n",
    "    OPTIONAL {{\n",
    "    ?Tpoint a brick:Thermal_Power_Sensor ;\n",
    "        ref:hasExternalReference/ref:hasTimeseriesId ?Tpower_point .}}    \n",
    "\n",
    "}}\n",
    "\"\"\"\n",
    "list_power_measurement = []\n",
    "# Execute the query and process the results\n",
    "for row in g.query(query):\n",
    "    Epower_point = row[0]\n",
    "    Tpower_point = row[1]\n",
    "    list_power_measurement.append(Epower_point.value)\n",
    "    if Tpower_point:\n",
    "        list_power_measurement.append(Tpower_point.value)\n",
    "    # Do something with power_point, e.g., print it or add to a list\n",
    "print(list_power_measurement)\n",
    "\n",
    "query = f\"\"\"\n",
    "PREFIX brick: <https://brickschema.org/schema/Brick#>\n",
    "PREFIX ref: <https://brickschema.org/schema/Brick/ref#>\n",
    "SELECT ?zone_set_temp_heat_point ?zone_set_temp_cool_point ?zone_set_temp_point ?zone_temp_point WHERE {{\n",
    "    \n",
    "    ?zone a brick:Zone ;\n",
    "    brick:hasPoint ?TZon, ?TSetHeaZon, ?TSetCooZon, ?TSetZon .\n",
    "    \n",
    "    ?TZon a brick:Zone_Air_Temperature_Sensor ;\n",
    "        ref:hasExternalReference/ref:hasTimeseriesId ?zone_temp_point .\n",
    "    \n",
    "    OPTIONAL {{\n",
    "    ?TSetHeaZon a brick:Zone_Air_Heating_Temperature_Setpoint;\n",
    "        ref:hasExternalReference/ref:hasTimeseriesId ?zone_set_temp_heat_point .}}\n",
    "\n",
    "    OPTIONAL {{\n",
    "    ?TSetCooZon a brick:Zone_Air_Cooling_Temperature_Setpoint;\n",
    "        ref:hasExternalReference/ref:hasTimeseriesId ?zone_set_temp_cool_point .}}\n",
    "\n",
    "    OPTIONAL {{\n",
    "    ?TSetZon a brick:Zone_Air_Temperature_Setpoint;\n",
    "        ref:hasExternalReference/ref:hasTimeseriesId ?zone_set_temp_point .}}  \n",
    "\n",
    "}} GROUP BY ?zone\n",
    "\"\"\"\n",
    "list_temp_measurement = []\n",
    "# Execute the query and process the results\n",
    "for row in g.query(query):\n",
    "    zone_set_temp_heat_point = row[0]\n",
    "    zone_set_temp_cool_point = row[1]\n",
    "    zone_set_temp_point = row[2]\n",
    "    zone_temp_point = row[3]\n",
    "    if zone_set_temp_heat_point != None:\n",
    "       list_temp_measurement.append(zone_set_temp_heat_point.value)\n",
    "    if zone_set_temp_cool_point != None:\n",
    "        list_temp_measurement.append(zone_set_temp_cool_point.value)\n",
    "    if zone_set_temp_point != None:\n",
    "        list_temp_measurement.append(zone_set_temp_point.value)\n",
    "    if zone_temp_point != None:\n",
    "        list_temp_measurement.append(zone_temp_point.value)\n",
    "    # Do something with power_point, e.g., print it or add to a list\n",
    "print(list_temp_measurement)\n",
    "\n",
    "list_all_measurement = list_power_measurement + list_temp_measurement\n",
    "\n",
    "\n",
    "query = f\"\"\"\n",
    "PREFIX brick: <https://brickschema.org/schema/Brick#>\n",
    "PREFIX ref: <https://brickschema.org/schema/Brick/ref#>\n",
    "SELECT ?set_temp_min_point ?set_temp_max_point ?occ_sensor_point WHERE {{\n",
    "    \n",
    "    ?zone a brick:Zone ;\n",
    "    brick:hasPoint ?TSetMin, ?TSetMax, ?Occ .\n",
    "    \n",
    "    ?TSetMin a brick:Min_Air_Temperature_Setpoint ;\n",
    "        ref:hasExternalReference/ref:hasTimeseriesId ?set_temp_min_point .\n",
    "\n",
    "    ?TSetMax a brick:Max_Air_Temperature_Setpoint ;\n",
    "        ref:hasExternalReference/ref:hasTimeseriesId ?set_temp_max_point .\n",
    "\n",
    "    ?Occ a brick:Occupancy_Sensor ;\n",
    "        ref:hasExternalReference/ref:hasTimeseriesId ?occ_sensor_point .\n",
    "\n",
    "}} GROUP BY ?zone\n",
    "\"\"\"\n",
    "list_forecast = []\n",
    "# Execute the query and process the results\n",
    "for row in g.query(query):\n",
    "    set_temp_min_point = row[0]\n",
    "    set_temp_max_point = row[1]\n",
    "    occ_sensor_point = row[2]\n",
    "    if set_temp_min_point != None:\n",
    "        list_forecast.append(set_temp_min_point.value)\n",
    "    if set_temp_max_point != None:\n",
    "        list_forecast.append(set_temp_max_point.value)\n",
    "    if occ_sensor_point != None:\n",
    "        list_forecast.append(occ_sensor_point.value)\n",
    "    # Do something with power_point, e.g., print it or add to a list\n",
    "print(list_forecast)\n"
   ]
  },
  {
   "cell_type": "markdown",
   "metadata": {},
   "source": [
    "### Export Baseline Results"
   ]
  },
  {
   "cell_type": "code",
   "execution_count": 41,
   "metadata": {},
   "outputs": [
    {
     "name": "stdout",
     "output_type": "stream",
     "text": [
      "Baseline data has been exported to data.csv successfully.\n"
     ]
    }
   ],
   "source": [
    "# Export baseline results\n",
    "import numpy as np\n",
    "\n",
    "\n",
    "df_pow = pd.DataFrame()\n",
    "for point in list_power_measurement:\n",
    "        args = {'point_names':point,\n",
    "                'start_time':start_time_days*24*3600, \n",
    "                'final_time':np.inf}\n",
    "        pow = requests.put('{0}/results/{1}'.format(url, testid), \n",
    "                           data=args).json()['payload']\n",
    "        df_pow = pd.concat((df_pow,pd.DataFrame(data=pow[point], \n",
    "                            index=pow['time'],columns=[point])), axis=1)\n",
    "df_pow.index.name = 'time'\n",
    "\n",
    "# Export DataFrame to CSV file\n",
    "\n",
    "csv_filepower_path = os.path.join(os.getcwd(), f'testcase_{testcase}', f'results_{control}', 'default_scenario','baseline_powerData.csv')\n",
    "df_pow.to_csv(csv_filepower_path)\n",
    "\n",
    "csv_fileschedule_path = os.path.join(os.getcwd(), f'testcase_{testcase}', f'results_{control}', 'default_scenario','scheduleData.csv')\n",
    "df_f_single_day.to_csv(csv_fileschedule_path)\n",
    "\n",
    "\n",
    "\n",
    "df_temp = pd.DataFrame()\n",
    "for tpoint in list_temp_measurement:\n",
    "        args = {'point_names':tpoint,\n",
    "                'start_time':start_time_days*24*3600, \n",
    "                'final_time':np.inf}\n",
    "        temp = requests.put('{0}/results/{1}'.format(url, testid), \n",
    "                           data=args).json()['payload']\n",
    "        df_temp = pd.concat((df_temp,pd.DataFrame(data=temp[tpoint], \n",
    "                            index=temp['time'],columns=[tpoint])), axis=1)\n",
    "df_temp.index.name = 'time'\n",
    "\n",
    "# Export DataFrame to CSV file\n",
    "csv_fileTemp_path = os.path.join(os.getcwd(), f'testcase_{testcase}', f'results_{control}', 'default_scenario','baseline_tempData.csv')\n",
    "df_temp.to_csv(csv_fileTemp_path)\n",
    "\n",
    "\n",
    "df_all = pd.DataFrame()\n",
    "for tpoint in list_all_measurement:\n",
    "        args = {'point_names':tpoint,\n",
    "                'start_time':start_time_days*24*3600, \n",
    "                'final_time':np.inf}\n",
    "        all = requests.put('{0}/results/{1}'.format(url, testid), \n",
    "                           data=args).json()['payload']\n",
    "        df_all = pd.concat((df_all,pd.DataFrame(data=all[tpoint], \n",
    "                            index=all['time'],columns=[tpoint])), axis=1)\n",
    "df_all.index.name = 'time'\n",
    "\n",
    "# Export DataFrame to CSV file\n",
    "csv_fileTemp_path = os.path.join(os.getcwd(), f'testcase_{testcase}', f'results_{control}', 'default_scenario','baseline.csv')\n",
    "df_all.to_csv(csv_fileTemp_path)\n",
    "\n",
    "\n",
    "print(\"Baseline data has been exported to data.csv successfully.\")\n"
   ]
  },
  {
   "attachments": {},
   "cell_type": "markdown",
   "metadata": {},
   "source": [
    "### Assessing a New Control Strategy\n",
    "For assessing a new control strategy, we need to initialize the test case in the same scenario used to obtain the baseline controller KPIs, and here we obtain the control step as defined in the setting simulation parameters part. After that, we instantiate the controller and define a simulation loop using the BOPTEST API. Note that the test case will return an empty dictionary when the testing period has elapsed, such that we can loop over the returned measurements without having to infer when the simulation time should end."
   ]
  },
  {
   "cell_type": "code",
   "execution_count": 42,
   "metadata": {},
   "outputs": [
    {
     "name": "stdout",
     "output_type": "stream",
     "text": [
      "Simulation time [elapsed days] = 14.00\n",
      "-------------------------------------------------------------------\n",
      "1900800\n",
      "{0: 0}\n",
      "price_threshold_value 0.05093\n",
      "range(0, 1) ['urn:bldg/hvacZone'] ['reaTZon_y'] ['oveTZonSet_u'] [] [] ['LowerSetp[1]'] ['UpperSetp[1]'] ['Occupancy[1]'] [] [] [] None None None\n",
      "heat\n",
      "TSetHeaZon 288.15 TSetHeaZon_baseline [288.15, 288.15, 288.15, 288.15, 288.15, 288.15, 288.15, 288.15, 288.15, 288.15, 288.15, 288.15, 288.15, 288.15, 288.15, 288.15, 288.15, 288.15, 288.15, 288.15, 288.15, 288.15, 288.15, 288.15, 288.15, 288.15, 288.15, 288.15, 288.15, 288.15, 288.15, 288.15, 288.15, 288.15, 288.15, 288.15, 288.15, 288.15, 288.15, 288.15, 288.15, 288.15, 288.15, 288.15, 288.15, 288.15, 288.15, 288.15, 288.15, 288.15, 288.15, 288.15, 288.15, 288.15, 288.15, 288.15, 288.15, 288.15, 288.15, 288.15, 288.15, 288.15, 288.15, 288.15, 288.15, 288.15, 288.15, 288.15, 288.15, 288.15, 288.15, 288.15, 288.15, 288.15, 288.15, 288.15, 288.15, 288.15, 288.15, 288.15, 288.15, 288.15, 288.15, 288.15, 288.15, 288.15, 288.15, 288.15, 288.15, 288.15, 288.15, 288.15, 288.15, 288.15, 288.15, 288.15]\n",
      "TSetCooZon None TSetCooZon_baseline []\n",
      "TZon 288.14978999838644\n",
      "None None None None None None\n",
      "occupancy_schedule [0, 0, 0, 0, 0, 0, 0, 0, 0, 0, 0, 0, 0, 0, 0, 0, 0, 0, 0, 0, 0, 0, 0, 0, 0, 0, 0, 0, 0, 0, 0, 0, 0, 0, 0, 0, 0, 0, 0, 0, 0, 0, 0, 0, 0, 0, 0, 0, 0, 0, 0, 0, 0, 0, 0, 0, 0, 0, 0, 0, 0, 0, 0, 0, 0, 0, 0, 0, 0, 0, 0, 0, 0, 0, 0, 0, 0, 0, 0, 0, 0, 0, 0, 0, 0, 0, 0, 0, 0, 0, 0, 0, 0, 0, 0, 0]\n",
      "price_schedule [0.03729, 0.0328, 0.02971, 0.031, 0.03608, 0.04002, 0.04644, 0.05519, 0.05491, 0.05733, 0.05566, 0.05093, 0.05002, 0.04959, 0.04998, 0.04998, 0.05031, 0.05408, 0.05761, 0.04998, 0.04596, 0.0416, 0.04396, 0.04151, 0.03729]\n",
      "0 0\n",
      "no shed, baseline setpoint {'oveTZonSet_u': 288.15}\n",
      "{}\n",
      "new shed counter 0\n",
      "{'oveTZonSet_u': 288.15}\n",
      "ratchet []\n",
      "rebound []\n",
      "rebound []\n",
      "[]\n",
      "[]\n",
      "[]\n",
      "{'oveTZonSet_u': 288.15, 'oveTZonSet_activate': 1}\n"
     ]
    }
   ],
   "source": [
    "import json\n",
    "\n",
    "# Initialize scenario\n",
    "y = requests.put('{0}/scenario/{1}'.format(url, testid), \n",
    "                 data={'time_period': time_period,\n",
    "                       'electricity_price':electricity_price}).json()['payload']['time_period']\n",
    "\n",
    "# Set control step\n",
    "requests.put('{0}/step/{1}'.format(url, testid), data={'step':step})\n",
    "\n",
    "# Get step\n",
    "s = requests.get('{0}/step/{1}'.format(url, testid)).json()['payload']\n",
    "\n",
    "# Instantiate controller\n",
    "con = bt_interface\n",
    "\n",
    "f_price = requests.put('{0}/forecast/{1}'.format(url, testid), \n",
    "                    data={'point_names': [electricity_price_identifier], 'horizon':14*24*3600, 'interval':1*3600}).json()['payload'] \n",
    "    \n",
    "\n",
    "# Simulation loop\n",
    "from IPython.display import clear_output\n",
    "while y:\n",
    "\n",
    "    # Clear the display output at each step\n",
    "    clear_output(wait=True)\n",
    "\n",
    "    current_time = y['time']\n",
    "\n",
    "    # Print the current operative temperature and simulation time\n",
    "    simulation_time_days = y['time']/3600/24\n",
    "    print('Simulation time [elapsed days] = {:.2f}'.format((simulation_time_days - \\\n",
    "                                                    start_time_days)))\n",
    "    print('-------------------------------------------------------------------')\n",
    "\n",
    "    # Get forecast\n",
    "    # points = requests.get('{0}/forecast_points/{1}'.format(url, testid))\n",
    "\n",
    "    # # Parse the response content into a dictionary\n",
    "    # point_data = json.loads(points.content)['payload']\n",
    "\n",
    "    # # Extract the point names from the dictionary\n",
    "    # point_names = [p for p in point_data.keys()]\n",
    "\n",
    "    point_names = [electricity_price_identifier] + list_forecast\n",
    "\n",
    "    # Use the point names as input for the PUT /forecast endpoint\n",
    "    f = requests.put('{0}/forecast/{1}'.format(url, testid), \n",
    "                    data={'point_names': point_names, 'horizon':24*3600, 'interval':1*3600}).json()['payload'] \n",
    "    \n",
    "    # Compute control signal (measurements, forecast, step)\n",
    "    u = con.control_agent(y, f, s, start_time_days, current_time, f_price)\n",
    "\n",
    "    # Advance simulation with control signal\n",
    "    y = requests.post('{0}/advance/{1}'.format(url, testid), data=u).json()['payload']    \n"
   ]
  },
  {
   "attachments": {},
   "cell_type": "markdown",
   "metadata": {},
   "source": [
    "### Export Flexible Results"
   ]
  },
  {
   "cell_type": "code",
   "execution_count": 43,
   "metadata": {},
   "outputs": [
    {
     "name": "stdout",
     "output_type": "stream",
     "text": [
      "Flexible data has been exported to data.csv successfully.\n"
     ]
    }
   ],
   "source": [
    "# Export DF results\n",
    "import numpy as np\n",
    "\n",
    "\n",
    "df_pow = pd.DataFrame()\n",
    "for point in list_power_measurement:\n",
    "        args = {'point_names':point,\n",
    "                'start_time':start_time_days*24*3600, \n",
    "                'final_time':np.inf}\n",
    "        pow = requests.put('{0}/results/{1}'.format(url, testid), \n",
    "                           data=args).json()['payload']\n",
    "        df_pow = pd.concat((df_pow,pd.DataFrame(data=pow[point], \n",
    "                            index=pow['time'],columns=[point])), axis=1)\n",
    "df_pow.index.name = 'time'\n",
    "\n",
    "# Export DataFrame to CSV file\n",
    "csv_filepower_path = os.path.join(os.getcwd(), f'testcase_{testcase}', f'results_{control}', 'default_scenario','flexible_powerData.csv')\n",
    "df_pow.to_csv(csv_filepower_path)\n",
    "\n",
    "\n",
    "\n",
    "df_temp = pd.DataFrame()\n",
    "for tpoint in list_temp_measurement:\n",
    "        args = {'point_names':tpoint,\n",
    "                'start_time':start_time_days*24*3600, \n",
    "                'final_time':np.inf}\n",
    "        temp = requests.put('{0}/results/{1}'.format(url, testid), \n",
    "                           data=args).json()['payload']\n",
    "        df_temp = pd.concat((df_temp,pd.DataFrame(data=temp[tpoint], \n",
    "                            index=temp['time'],columns=[tpoint])), axis=1)\n",
    "df_temp.index.name = 'time'\n",
    "\n",
    "# Export DataFrame to CSV file\n",
    "csv_fileTemp_path = os.path.join(os.getcwd(), f'testcase_{testcase}', f'results_{control}', 'default_scenario','flexible_tempData.csv')\n",
    "df_temp.to_csv(csv_fileTemp_path)\n",
    "\n",
    "print(\"Flexible data has been exported to data.csv successfully.\")"
   ]
  },
  {
   "attachments": {},
   "cell_type": "markdown",
   "metadata": {},
   "source": [
    "Get KPIs from Test Control \n"
   ]
  },
  {
   "cell_type": "code",
   "execution_count": 44,
   "metadata": {},
   "outputs": [
    {
     "name": "stdout",
     "output_type": "stream",
     "text": [
      "{'tdis_tot': 167.4943773960484, 'idis_tot': 5.4233365851520965, 'ener_tot': 2.956451690353823, 'cost_tot': 0.2417704735211585, 'emis_tot': 0.35331311230486856, 'pele_tot': 0.004907796724888819, 'pgas_tot': None, 'pdih_tot': 0.08850423180205197, 'time_rat': 0.001980545424272678}\n"
     ]
    }
   ],
   "source": [
    "\n",
    "# Get and print the test control KPIs\n",
    "kpis_con = requests.get('{0}/kpi/{1}'.format(url, testid)).json()['payload']\n",
    "print(kpis_con)\n",
    "\n",
    "import csv\n",
    "\n",
    "# Create a list of field names (keys)\n",
    "field_names = list(kpis_con.keys())\n",
    "\n",
    "# Open a file in write mode\n",
    "with open(os.path.join(os.getcwd(), f'testcase_{testcase}', f'results_{control}', 'default_scenario','kpis_con.csv'), 'w') as csvfile:\n",
    "    # Create a writer object\n",
    "    writer = csv.DictWriter(csvfile, fieldnames=field_names)\n",
    "    # Write the header row\n",
    "    writer.writeheader()\n",
    "    # Write the dictionary as a row\n",
    "    writer.writerow(kpis_con)\n"
   ]
  },
  {
   "attachments": {},
   "cell_type": "markdown",
   "metadata": {},
   "source": [
    "### Stopping the Test \n",
    "We can stop the test case instance in order to free up web-service resources for other test cases. "
   ]
  },
  {
   "cell_type": "code",
   "execution_count": 45,
   "metadata": {},
   "outputs": [],
   "source": [
    "# Set to true if want to stop test case\n",
    "stop = False\n",
    "if stop:\n",
    "  requests.put('{0}/stop/{1}'.format(url, testid))\n"
   ]
  }
 ],
 "metadata": {
  "kernelspec": {
   "display_name": "Python 3",
   "language": "python",
   "name": "python3"
  },
  "language_info": {
   "codemirror_mode": {
    "name": "ipython",
    "version": 3
   },
   "file_extension": ".py",
   "mimetype": "text/x-python",
   "name": "python",
   "nbconvert_exporter": "python",
   "pygments_lexer": "ipython3",
   "version": "3.12.4"
  },
  "orig_nbformat": 4,
  "vscode": {
   "interpreter": {
    "hash": "9eb2023bd8e50475b3a908d6d38ba019af9552830ebc9011113c4cbaf19e0ed7"
   }
  }
 },
 "nbformat": 4,
 "nbformat_minor": 2
}
