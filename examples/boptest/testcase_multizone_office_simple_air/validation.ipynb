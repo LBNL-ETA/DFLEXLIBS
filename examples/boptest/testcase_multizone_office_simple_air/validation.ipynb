{
 "cells": [
  {
   "attachments": {},
   "cell_type": "markdown",
   "metadata": {},
   "source": [
    "### Run buildingMOTIF semantic sufficiency validation\n",
    "The goal of this script is to determine whether a given model is semantically sufficient to execute a certain control application. It uses SHACL shapes to define the application's metadata requirements and BuildingMOTIF to provide feedback on the validation. This notebook follows the steps outlined in [this](https://nrel.github.io/BuildingMOTIF/tutorials/model_validation.html) buildingMOTIF tutorial. Start by importing validation from the `Validation` interface, as well as the test case config file and the `selected manifest_path` from the validation_buildingMOTIF directory."
   ]
  },
  {
   "cell_type": "code",
   "execution_count": 1,
   "metadata": {},
   "outputs": [],
   "source": [
    "import sys\n",
    "sys.path.append(\"..\")\n",
    "config_path = 'config_zone_temp.yml'\n",
    "manifest_path = 'validation_buildingMOTIF/BOPTest_manifest_zone_temp.ttl'\n",
    "\n",
    "from validation_buildingMOTIF.BOPTest_validation import ValidationInterface"
   ]
  },
  {
   "attachments": {},
   "cell_type": "markdown",
   "metadata": {},
   "source": [
    "Initialize and run validation interface"
   ]
  },
  {
   "cell_type": "code",
   "execution_count": 2,
   "metadata": {},
   "outputs": [
    {
     "name": "stdout",
     "output_type": "stream",
     "text": [
      "@prefix owl: <http://www.w3.org/2002/07/owl#> .\n",
      "\n",
      "<urn:bldg/> a owl:Ontology .\n",
      "\n",
      "\n"
     ]
    },
    {
     "name": "stderr",
     "output_type": "stream",
     "text": [
      "2023-08-07 07:49:19,844 | root |  WARNING: Warning: could not find dependee https://brickschema.org/schema/Brick#Min_Air_Temperature_Setpoint\n",
      "2023-08-07 07:49:19,850 | root |  WARNING: Warning: could not find dependee https://brickschema.org/schema/Brick#Zone_Air_Temperature_Sensor\n",
      "2023-08-07 07:49:19,857 | root |  WARNING: Warning: could not find dependee https://brickschema.org/schema/Brick#Occupancy_Sensor\n"
     ]
    },
    {
     "name": "stdout",
     "output_type": "stream",
     "text": [
      "Model is valid? True\n",
      "Model is valid? True\n"
     ]
    }
   ],
   "source": [
    "# Initialize validation interface\n",
    "validator = ValidationInterface(config_path, manifest_path)\n",
    "\n",
    "# Run validation\n",
    "validator.validate()"
   ]
  }
 ],
 "metadata": {
  "kernelspec": {
   "display_name": "Python 3",
   "language": "python",
   "name": "python3"
  },
  "language_info": {
   "codemirror_mode": {
    "name": "ipython",
    "version": 3
   },
   "file_extension": ".py",
   "mimetype": "text/x-python",
   "name": "python",
   "nbconvert_exporter": "python",
   "pygments_lexer": "ipython3",
   "version": "3.9.9"
  },
  "orig_nbformat": 4,
  "vscode": {
   "interpreter": {
    "hash": "9eb2023bd8e50475b3a908d6d38ba019af9552830ebc9011113c4cbaf19e0ed7"
   }
  }
 },
 "nbformat": 4,
 "nbformat_minor": 2
}
