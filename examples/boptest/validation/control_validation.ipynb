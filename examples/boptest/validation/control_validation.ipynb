{
 "cells": [
  {
   "attachments": {},
   "cell_type": "markdown",
   "metadata": {},
   "source": [
    "# Control validation (semantic sufficiency validation)\n",
    "---"
   ]
  },
  {
   "cell_type": "markdown",
   "metadata": {},
   "source": [
    "### Defining graph and manifests paths"
   ]
  },
  {
   "cell_type": "code",
   "execution_count": 7,
   "metadata": {},
   "outputs": [],
   "source": [
    "\n",
    "testcase = 'bestest_air' # bestest_air, bestest_hydronic_heat_pump, singlezone_commercial_hydronic, multizone_office_simple_air\n",
    "\n",
    "graph_path = f'../boptest/testcase_{testcase}/{testcase}.ttl'\n",
    "\n",
    "# Define manifest paths (metadata requirements for the controls)\n",
    "manifest_paths = {\n",
    "        'os_c_1a_zone_temp_adjs_rat':'validation/manifests_controls/manifest_os_c_1a_zone_temp_adjs_rat.ttl',\n",
    "        'os_c_1b_zone_temp_adjs_rat_dem':'validation/manifests_controls/manifest_os_c_1b_zone_temp_adjs_rat_dem.ttl', \n",
    "        'os_c_2a_zone_pre_heat_cool_sim': 'validation/manifests_controls/manifest_os_c_2a_zone_pre_heat_cool_sim.ttl',   \n",
    "        'os_c_2b_zone_pre_heat_cool_com': 'validation/manifests_controls/manifest_os_c_2b_zone_pre_heat_cool_com.ttl'         \n",
    "        }"
   ]
  },
  {
   "cell_type": "markdown",
   "metadata": {},
   "source": [
    "### Validating a Brick model"
   ]
  },
  {
   "cell_type": "code",
   "execution_count": 8,
   "metadata": {},
   "outputs": [
    {
     "name": "stdout",
     "output_type": "stream",
     "text": [
      "ValidationContext(shape_collections=[ShapeCollection(_id=3, graph=<Graph identifier=f4e2f03a-43ff-4065-a023-b0c47b7d4479 (<class 'rdflib.graph.Graph'>)>, _bm=<buildingmotif.building_motif.building_motif.BuildingMOTIF object at 0x0000023AAAB59DC0>), ShapeCollection(_id=2, graph=<Graph identifier=90af2a3d-e3d3-480e-a843-94f49385e34f (<class 'rdflib.graph.Graph'>)>, _bm=<buildingmotif.building_motif.building_motif.BuildingMOTIF object at 0x0000023AAAB59DC0>), ShapeCollection(_id=5, graph=<Graph identifier=d76de265-a67b-48b1-9c23-18d06db1a092 (<class 'rdflib.graph.Graph'>)>, _bm=<buildingmotif.building_motif.building_motif.BuildingMOTIF object at 0x0000023AAAB59DC0>)], valid=True, report=<Graph identifier=N4a7b9c7748c84425a52dd6e85d31c858 (<class 'rdflib.graph.Graph'>)>, report_string='Validation Report\\nConforms: True\\n', model=Model(_id=9, _name=Namespace('urn:bldg/'), _description='This is a test model for a simple building', graph=<Graph identifier=0d2096bd-72db-4607-8329-77b3b6a3ac42 (<class 'rdflib.graph.Graph'>)>, _bm=<buildingmotif.building_motif.building_motif.BuildingMOTIF object at 0x0000023AAAB59DC0>, _manifest_id=45))\n",
      "ValidationContext(shape_collections=[ShapeCollection(_id=3, graph=<Graph identifier=f4e2f03a-43ff-4065-a023-b0c47b7d4479 (<class 'rdflib.graph.Graph'>)>, _bm=<buildingmotif.building_motif.building_motif.BuildingMOTIF object at 0x0000023AAAB59DC0>), ShapeCollection(_id=2, graph=<Graph identifier=90af2a3d-e3d3-480e-a843-94f49385e34f (<class 'rdflib.graph.Graph'>)>, _bm=<buildingmotif.building_motif.building_motif.BuildingMOTIF object at 0x0000023AAAB59DC0>), ShapeCollection(_id=11, graph=<Graph identifier=a1470a12-1d55-48ca-b1c3-7f36d9fd488d (<class 'rdflib.graph.Graph'>)>, _bm=<buildingmotif.building_motif.building_motif.BuildingMOTIF object at 0x0000023AAAB59DC0>)], valid=False, report=<Graph identifier=N9fe6734c7f70453cbaafde3c7f093f78 (<class 'rdflib.graph.Graph'>)>, report_string='Validation Report\\nConforms: False\\nResults (1):\\nConstraint Violation in ConstraintComponent (https://nrel.gov/BuildingMOTIF/constraints#countConstraintComponent):\\n\\tSeverity: sh:Violation\\n\\tSource Shape: <urn:os_c_1b_zone_temp_adjs_rat_dem/electric-power-sensor>\\n\\tFocus Node: <urn:os_c_1b_zone_temp_adjs_rat_dem/>\\n\\tValue Node: <urn:os_c_1b_zone_temp_adjs_rat_dem/>\\n\\tMessage: Not the right number {$exactCount} of instances of {$class}\\n', model=Model(_id=10, _name=Namespace('urn:bldg/'), _description='This is a test model for a simple building', graph=<Graph identifier=4a74f700-352b-4526-9d7d-aaeeb208926d (<class 'rdflib.graph.Graph'>)>, _bm=<buildingmotif.building_motif.building_motif.BuildingMOTIF object at 0x0000023AAAB59DC0>, _manifest_id=50))\n",
      "None\n",
      " For DF control app os_c_1b_zone_temp_adjs_rat_dem - Graph did not have 1 instances of https://brickschema.org/schema/Brick#Electric_Power_Sensor\n",
      "ValidationContext(shape_collections=[ShapeCollection(_id=3, graph=<Graph identifier=f4e2f03a-43ff-4065-a023-b0c47b7d4479 (<class 'rdflib.graph.Graph'>)>, _bm=<buildingmotif.building_motif.building_motif.BuildingMOTIF object at 0x0000023AAAB59DC0>), ShapeCollection(_id=2, graph=<Graph identifier=90af2a3d-e3d3-480e-a843-94f49385e34f (<class 'rdflib.graph.Graph'>)>, _bm=<buildingmotif.building_motif.building_motif.BuildingMOTIF object at 0x0000023AAAB59DC0>), ShapeCollection(_id=57, graph=<Graph identifier=739e4566-1b63-4361-8b17-1069e238e93f (<class 'rdflib.graph.Graph'>)>, _bm=<buildingmotif.building_motif.building_motif.BuildingMOTIF object at 0x0000023AAAB59DC0>)], valid=True, report=<Graph identifier=N0c121cc0b8f94bcbba0e9b7bfe4b098c (<class 'rdflib.graph.Graph'>)>, report_string='Validation Report\\nConforms: True\\n', model=Model(_id=11, _name=Namespace('urn:bldg/'), _description='This is a test model for a simple building', graph=<Graph identifier=2957741d-9512-4d80-8fb8-a13d19da860c (<class 'rdflib.graph.Graph'>)>, _bm=<buildingmotif.building_motif.building_motif.BuildingMOTIF object at 0x0000023AAAB59DC0>, _manifest_id=55))\n",
      "ValidationContext(shape_collections=[ShapeCollection(_id=3, graph=<Graph identifier=f4e2f03a-43ff-4065-a023-b0c47b7d4479 (<class 'rdflib.graph.Graph'>)>, _bm=<buildingmotif.building_motif.building_motif.BuildingMOTIF object at 0x0000023AAAB59DC0>), ShapeCollection(_id=2, graph=<Graph identifier=90af2a3d-e3d3-480e-a843-94f49385e34f (<class 'rdflib.graph.Graph'>)>, _bm=<buildingmotif.building_motif.building_motif.BuildingMOTIF object at 0x0000023AAAB59DC0>), ShapeCollection(_id=63, graph=<Graph identifier=2138f4d2-83f7-46da-9119-6a73b27e0c27 (<class 'rdflib.graph.Graph'>)>, _bm=<buildingmotif.building_motif.building_motif.BuildingMOTIF object at 0x0000023AAAB59DC0>)], valid=True, report=<Graph identifier=N17a2c24597074908990168da3dd710ec (<class 'rdflib.graph.Graph'>)>, report_string='Validation Report\\nConforms: True\\n', model=Model(_id=12, _name=Namespace('urn:bldg/'), _description='This is a test model for a simple building', graph=<Graph identifier=3955164c-457c-4ac0-8397-9c0dd78b9fa0 (<class 'rdflib.graph.Graph'>)>, _bm=<buildingmotif.building_motif.building_motif.BuildingMOTIF object at 0x0000023AAAB59DC0>, _manifest_id=61))\n",
      "╒════════════════════════════════╤═════════════════════════════════╕\n",
      "│ DF Control app                 │ Brick model validation result   │\n",
      "╞════════════════════════════════╪═════════════════════════════════╡\n",
      "│ os_c_1a_zone_temp_adjs_rat     │ True                            │\n",
      "├────────────────────────────────┼─────────────────────────────────┤\n",
      "│ os_c_1b_zone_temp_adjs_rat_dem │ False                           │\n",
      "├────────────────────────────────┼─────────────────────────────────┤\n",
      "│ os_c_2a_zone_pre_heat_cool_sim │ True                            │\n",
      "├────────────────────────────────┼─────────────────────────────────┤\n",
      "│ os_c_2b_zone_pre_heat_cool_com │ True                            │\n",
      "╘════════════════════════════════╧═════════════════════════════════╛\n",
      "Suitable DF control apps according to metadata in the Brick model ['os_c_1a_zone_temp_adjs_rat', 'os_c_2a_zone_pre_heat_cool_sim', 'os_c_2b_zone_pre_heat_cool_com']\n"
     ]
    }
   ],
   "source": [
    "from buildingMOTIF_interface import ValidationInterface\n",
    "\n",
    "# Initialize validation interface\n",
    "validator = ValidationInterface(graph_path, manifest_paths)\n",
    "\n",
    "# Run validation\n",
    "suitable_controlApps = []\n",
    "suitable_controlApps = validator.validate()\n",
    "suitable_controlApps = [list(d)[0] for d in suitable_controlApps]\n",
    "\n",
    "print('Suitable DF control apps according to metadata in the Brick model',suitable_controlApps)"
   ]
  },
  {
   "cell_type": "code",
   "execution_count": 9,
   "metadata": {},
   "outputs": [
    {
     "name": "stdout",
     "output_type": "stream",
     "text": [
      "None\n",
      "{\n",
      "  \"validation_table\": [\n",
      "    [\n",
      "      \"os_c_1a_zone_temp_adjs_rat\",\n",
      "      true\n",
      "    ],\n",
      "    [\n",
      "      \"os_c_1b_zone_temp_adjs_rat_dem\",\n",
      "      false\n",
      "    ],\n",
      "    [\n",
      "      \"os_c_2a_zone_pre_heat_cool_sim\",\n",
      "      true\n",
      "    ],\n",
      "    [\n",
      "      \"os_c_2b_zone_pre_heat_cool_com\",\n",
      "      true\n",
      "    ]\n",
      "  ],\n",
      "  \"suitable_controlApps\": [\n",
      "    \"os_c_1a_zone_temp_adjs_rat\",\n",
      "    \"os_c_2a_zone_pre_heat_cool_sim\",\n",
      "    \"os_c_2b_zone_pre_heat_cool_com\"\n",
      "  ],\n",
      "  \"non_suitable_controlApps\": [\n",
      "    [\n",
      "      \"os_c_1b_zone_temp_adjs_rat_dem\",\n",
      "      \"Graph did not have 1 instances of https://brickschema.org/schema/Brick#Electric_Power_Sensor\"\n",
      "    ]\n",
      "  ]\n",
      "}\n"
     ]
    }
   ],
   "source": [
    "# Get results in json format\n",
    "json_results = validator.get_results()"
   ]
  }
 ],
 "metadata": {
  "kernelspec": {
   "display_name": "env",
   "language": "python",
   "name": "python3"
  },
  "language_info": {
   "codemirror_mode": {
    "name": "ipython",
    "version": 3
   },
   "file_extension": ".py",
   "mimetype": "text/x-python",
   "name": "python",
   "nbconvert_exporter": "python",
   "pygments_lexer": "ipython3",
   "version": "3.12.4"
  },
  "orig_nbformat": 4
 },
 "nbformat": 4,
 "nbformat_minor": 2
}
