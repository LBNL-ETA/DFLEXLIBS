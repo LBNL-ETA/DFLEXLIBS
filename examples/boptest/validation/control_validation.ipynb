{
 "cells": [
  {
   "attachments": {},
   "cell_type": "markdown",
   "metadata": {},
   "source": [
    "# Control validation (semantic sufficiency validation)\n",
    "---"
   ]
  },
  {
   "cell_type": "markdown",
   "metadata": {},
   "source": [
    "### Defining graph and manifests paths"
   ]
  },
  {
   "cell_type": "code",
   "execution_count": 1,
   "metadata": {},
   "outputs": [],
   "source": [
    "\n",
    "testcase = 'bestest_air' # bestest_air, bestest_hydronic_heat_pump, singlezone_commercial_hydronic, multizone_office_simple_air\n",
    "\n",
    "graph_path = f'../boptest/testcase_{testcase}/{testcase}.ttl'\n",
    "\n",
    "# Define manifest paths (metadata requirements for the controls)\n",
    "manifest_paths = {\n",
    "        'os_c_1a_zone_temp_adjs_rat':'validation/manifests_controls/manifest_os_c_1a_zone_temp_adjs_rat.ttl',\n",
    "        'os_c_1b_zone_temp_adjs_rat_dem':'validation/manifests_controls/manifest_os_c_1b_zone_temp_adjs_rat_dem.ttl', \n",
    "        'os_c_2a_zone_pre_heat_cool_sim': 'validation/manifests_controls/manifest_os_c_2a_zone_pre_heat_cool_sim.ttl',   \n",
    "        'os_c_2b_zone_pre_heat_cool_com': 'validation/manifests_controls/manifest_os_c_2b_zone_pre_heat_cool_com.ttl'         \n",
    "        }"
   ]
  },
  {
   "cell_type": "markdown",
   "metadata": {},
   "source": [
    "### Validating a Brick model"
   ]
  },
  {
   "cell_type": "code",
   "execution_count": 2,
   "metadata": {},
   "outputs": [
    {
     "name": "stdout",
     "output_type": "stream",
     "text": [
      "ValidationContext(shape_collections=[ShapeCollection(_id=3, graph=<Graph identifier=1a74c1f4-0472-4d0a-ba61-fa508693ebdc (<class 'rdflib.graph.Graph'>)>, _bm=<buildingmotif.building_motif.building_motif.BuildingMOTIF object at 0x000001F08F691A60>), ShapeCollection(_id=2, graph=<Graph identifier=de2f4ddb-d454-4c77-91de-2ff8f3c12889 (<class 'rdflib.graph.Graph'>)>, _bm=<buildingmotif.building_motif.building_motif.BuildingMOTIF object at 0x000001F08F691A60>), ShapeCollection(_id=5, graph=<Graph identifier=0bc12fa8-ab12-40e5-b011-9b7a741c7fd2 (<class 'rdflib.graph.Graph'>)>, _bm=<buildingmotif.building_motif.building_motif.BuildingMOTIF object at 0x000001F08F691A60>)], valid=True, report=<Graph identifier=Ncfb9914f51464bbdbe810577b0354a58 (<class 'rdflib.graph.Graph'>)>, report_string='Validation Report\\nConforms: True\\n', model=Model(_id=1, _name=Namespace('urn:bldg/'), _description='This is a test model for a simple building', graph=<Graph identifier=ce36812a-c215-4a54-b509-4ecb783d6057 (<class 'rdflib.graph.Graph'>)>, _bm=<buildingmotif.building_motif.building_motif.BuildingMOTIF object at 0x000001F08F691A60>, _manifest_id=1))\n",
      "ValidationContext(shape_collections=[ShapeCollection(_id=3, graph=<Graph identifier=1a74c1f4-0472-4d0a-ba61-fa508693ebdc (<class 'rdflib.graph.Graph'>)>, _bm=<buildingmotif.building_motif.building_motif.BuildingMOTIF object at 0x000001F08F691A60>), ShapeCollection(_id=2, graph=<Graph identifier=de2f4ddb-d454-4c77-91de-2ff8f3c12889 (<class 'rdflib.graph.Graph'>)>, _bm=<buildingmotif.building_motif.building_motif.BuildingMOTIF object at 0x000001F08F691A60>), ShapeCollection(_id=11, graph=<Graph identifier=956c3b77-1574-4c5f-8d88-178a43e7ef5d (<class 'rdflib.graph.Graph'>)>, _bm=<buildingmotif.building_motif.building_motif.BuildingMOTIF object at 0x000001F08F691A60>)], valid=True, report=<Graph identifier=Nce2c4b7aa2bf4434ace74ac577c57086 (<class 'rdflib.graph.Graph'>)>, report_string='Validation Report\\nConforms: True\\n', model=Model(_id=2, _name=Namespace('urn:bldg/'), _description='This is a test model for a simple building', graph=<Graph identifier=6c51da59-9add-4f92-b36b-af3dd92b71b0 (<class 'rdflib.graph.Graph'>)>, _bm=<buildingmotif.building_motif.building_motif.BuildingMOTIF object at 0x000001F08F691A60>, _manifest_id=9))\n",
      "ValidationContext(shape_collections=[ShapeCollection(_id=3, graph=<Graph identifier=1a74c1f4-0472-4d0a-ba61-fa508693ebdc (<class 'rdflib.graph.Graph'>)>, _bm=<buildingmotif.building_motif.building_motif.BuildingMOTIF object at 0x000001F08F691A60>), ShapeCollection(_id=2, graph=<Graph identifier=de2f4ddb-d454-4c77-91de-2ff8f3c12889 (<class 'rdflib.graph.Graph'>)>, _bm=<buildingmotif.building_motif.building_motif.BuildingMOTIF object at 0x000001F08F691A60>), ShapeCollection(_id=17, graph=<Graph identifier=fe67b524-fe03-4104-a03b-de036165ca92 (<class 'rdflib.graph.Graph'>)>, _bm=<buildingmotif.building_motif.building_motif.BuildingMOTIF object at 0x000001F08F691A60>)], valid=True, report=<Graph identifier=Nca36cf89f9584f1fbf3bedd3005c9a7b (<class 'rdflib.graph.Graph'>)>, report_string='Validation Report\\nConforms: True\\n', model=Model(_id=3, _name=Namespace('urn:bldg/'), _description='This is a test model for a simple building', graph=<Graph identifier=aad5c2bb-77ae-4ddd-881f-1abec3649e80 (<class 'rdflib.graph.Graph'>)>, _bm=<buildingmotif.building_motif.building_motif.BuildingMOTIF object at 0x000001F08F691A60>, _manifest_id=15))\n",
      "ValidationContext(shape_collections=[ShapeCollection(_id=3, graph=<Graph identifier=1a74c1f4-0472-4d0a-ba61-fa508693ebdc (<class 'rdflib.graph.Graph'>)>, _bm=<buildingmotif.building_motif.building_motif.BuildingMOTIF object at 0x000001F08F691A60>), ShapeCollection(_id=2, graph=<Graph identifier=de2f4ddb-d454-4c77-91de-2ff8f3c12889 (<class 'rdflib.graph.Graph'>)>, _bm=<buildingmotif.building_motif.building_motif.BuildingMOTIF object at 0x000001F08F691A60>), ShapeCollection(_id=23, graph=<Graph identifier=f3daf767-24d4-43c3-922f-bf6487665e3b (<class 'rdflib.graph.Graph'>)>, _bm=<buildingmotif.building_motif.building_motif.BuildingMOTIF object at 0x000001F08F691A60>)], valid=True, report=<Graph identifier=N59d3590468a84aa9b7fbe37ed8cab8f0 (<class 'rdflib.graph.Graph'>)>, report_string='Validation Report\\nConforms: True\\n', model=Model(_id=4, _name=Namespace('urn:bldg/'), _description='This is a test model for a simple building', graph=<Graph identifier=5c32214f-d992-448f-b5f0-b2d379528959 (<class 'rdflib.graph.Graph'>)>, _bm=<buildingmotif.building_motif.building_motif.BuildingMOTIF object at 0x000001F08F691A60>, _manifest_id=21))\n",
      "╒════════════════════════════════╤═════════════════════════════════╕\n",
      "│ DF Control app                 │ Brick model validation result   │\n",
      "╞════════════════════════════════╪═════════════════════════════════╡\n",
      "│ os_c_1a_zone_temp_adjs_rat     │ True                            │\n",
      "├────────────────────────────────┼─────────────────────────────────┤\n",
      "│ os_c_1b_zone_temp_adjs_rat_dem │ True                            │\n",
      "├────────────────────────────────┼─────────────────────────────────┤\n",
      "│ os_c_2a_zone_pre_heat_cool_sim │ True                            │\n",
      "├────────────────────────────────┼─────────────────────────────────┤\n",
      "│ os_c_2b_zone_pre_heat_cool_com │ True                            │\n",
      "╘════════════════════════════════╧═════════════════════════════════╛\n",
      "Suitable DF control apps according to metadata in the Brick model ['os_c_1a_zone_temp_adjs_rat', 'os_c_1b_zone_temp_adjs_rat_dem', 'os_c_2a_zone_pre_heat_cool_sim', 'os_c_2b_zone_pre_heat_cool_com']\n"
     ]
    }
   ],
   "source": [
    "from buildingMOTIF_interface import ValidationInterface\n",
    "\n",
    "# Initialize validation interface\n",
    "validator = ValidationInterface(graph_path, manifest_paths)\n",
    "\n",
    "# Run validation\n",
    "suitable_controlApps = []\n",
    "suitable_controlApps = validator.validate()\n",
    "suitable_controlApps = [list(d)[0] for d in suitable_controlApps]\n",
    "\n",
    "print('Suitable DF control apps according to metadata in the Brick model',suitable_controlApps)"
   ]
  },
  {
   "cell_type": "code",
   "execution_count": 3,
   "metadata": {},
   "outputs": [
    {
     "name": "stdout",
     "output_type": "stream",
     "text": [
      "{\n",
      "  \"validation_table\": [\n",
      "    [\n",
      "      \"os_c_1a_zone_temp_adjs_rat\",\n",
      "      true\n",
      "    ],\n",
      "    [\n",
      "      \"os_c_1b_zone_temp_adjs_rat_dem\",\n",
      "      true\n",
      "    ],\n",
      "    [\n",
      "      \"os_c_2a_zone_pre_heat_cool_sim\",\n",
      "      true\n",
      "    ],\n",
      "    [\n",
      "      \"os_c_2b_zone_pre_heat_cool_com\",\n",
      "      true\n",
      "    ]\n",
      "  ],\n",
      "  \"suitable_controlApps\": [\n",
      "    \"os_c_1a_zone_temp_adjs_rat\",\n",
      "    \"os_c_1b_zone_temp_adjs_rat_dem\",\n",
      "    \"os_c_2a_zone_pre_heat_cool_sim\",\n",
      "    \"os_c_2b_zone_pre_heat_cool_com\"\n",
      "  ],\n",
      "  \"non_suitable_controlApps\": []\n",
      "}\n"
     ]
    }
   ],
   "source": [
    "# Get results in json format\n",
    "json_results = validator.get_results()"
   ]
  }
 ],
 "metadata": {
  "kernelspec": {
   "display_name": "env",
   "language": "python",
   "name": "python3"
  },
  "language_info": {
   "codemirror_mode": {
    "name": "ipython",
    "version": 3
   },
   "file_extension": ".py",
   "mimetype": "text/x-python",
   "name": "python",
   "nbconvert_exporter": "python",
   "pygments_lexer": "ipython3",
   "version": "3.12.4"
  },
  "orig_nbformat": 4
 },
 "nbformat": 4,
 "nbformat_minor": 2
}
