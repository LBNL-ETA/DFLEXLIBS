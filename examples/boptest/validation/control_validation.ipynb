{
 "cells": [
  {
   "attachments": {},
   "cell_type": "markdown",
   "metadata": {},
   "source": [
    "# Control validation (semantic sufficiency validation)\n",
    "---"
   ]
  },
  {
   "cell_type": "markdown",
   "metadata": {},
   "source": [
    "### Defining graph and manifests paths"
   ]
  },
  {
   "cell_type": "code",
   "execution_count": 1,
   "metadata": {},
   "outputs": [],
   "source": [
    "\n",
    "testcase = 'bestest_air'\n",
    "graph_path = f'../boptest/testcase_{testcase}/{testcase}.ttl'\n",
    "\n",
    "# Define manifest paths (metadata requirements for the controls)\n",
    "manifest_paths = {\n",
    "        'shed os_c1_1_zone_temp_adjs_rat':'validation/manifests_controls/manifest_os_c1_1_zone_temp_adjs_rat.ttl',\n",
    "        'shed os_zone_temp_adjs_dem_rat':'validation/manifests_controls/manifest_shed_os_zone_temp_adjs_dem_rat.ttl'             \n",
    "        }"
   ]
  },
  {
   "cell_type": "markdown",
   "metadata": {},
   "source": [
    "### Validating a Brick model"
   ]
  },
  {
   "cell_type": "code",
   "execution_count": 2,
   "metadata": {},
   "outputs": [
    {
     "name": "stdout",
     "output_type": "stream",
     "text": [
      "╒═════════════════════════════════╤═════════════════════════════════╕\n",
      "│ DF Control app                  │ Brick model validation result   │\n",
      "╞═════════════════════════════════╪═════════════════════════════════╡\n",
      "│ shed os_c1_1_zone_temp_adjs_rat │ True                            │\n",
      "├─────────────────────────────────┼─────────────────────────────────┤\n",
      "│ shed os_zone_temp_adjs_dem_rat  │ False                           │\n",
      "╘═════════════════════════════════╧═════════════════════════════════╛\n",
      "Suitable DF control apps according to metadata in the Brick model ['shed os_c1_1_zone_temp_adjs_rat']\n"
     ]
    }
   ],
   "source": [
    "from buildingMOTIF_interface import ValidationInterface\n",
    "\n",
    "# Initialize validation interface\n",
    "validator = ValidationInterface(graph_path, manifest_paths)\n",
    "\n",
    "# Run validation\n",
    "suitable_controlApps = []\n",
    "suitable_controlApps = validator.validate()\n",
    "suitable_controlApps = [list(d)[0] for d in suitable_controlApps]\n",
    "\n",
    "print('Suitable DF control apps according to metadata in the Brick model',suitable_controlApps)"
   ]
  },
  {
   "cell_type": "code",
   "execution_count": 3,
   "metadata": {},
   "outputs": [
    {
     "name": "stdout",
     "output_type": "stream",
     "text": [
      "{\n",
      "  \"validation_table\": [\n",
      "    [\n",
      "      \"shed os_c1_1_zone_temp_adjs_rat\",\n",
      "      true\n",
      "    ],\n",
      "    [\n",
      "      \"shed os_zone_temp_adjs_dem_rat\",\n",
      "      false\n",
      "    ]\n",
      "  ],\n",
      "  \"suitable_controlApps\": [\n",
      "    \"shed os_c1_1_zone_temp_adjs_rat\"\n",
      "  ],\n",
      "  \"non_suitable_controlApps\": []\n",
      "}\n"
     ]
    }
   ],
   "source": [
    "# Get results in json format\n",
    "json_results = validator.get_results()"
   ]
  }
 ],
 "metadata": {
  "kernelspec": {
   "display_name": "env",
   "language": "python",
   "name": "python3"
  },
  "language_info": {
   "codemirror_mode": {
    "name": "ipython",
    "version": 3
   },
   "file_extension": ".py",
   "mimetype": "text/x-python",
   "name": "python",
   "nbconvert_exporter": "python",
   "pygments_lexer": "ipython3",
   "version": "3.12.4"
  },
  "orig_nbformat": 4
 },
 "nbformat": 4,
 "nbformat_minor": 2
}
