{
 "cells": [
  {
   "attachments": {},
   "cell_type": "markdown",
   "metadata": {},
   "source": [
    "# Control validation (semantic sufficiency validation)\n",
    "---"
   ]
  },
  {
   "cell_type": "markdown",
   "metadata": {},
   "source": [
    "### Defining graph and manifests paths"
   ]
  },
  {
   "cell_type": "code",
   "execution_count": 2,
   "metadata": {},
   "outputs": [],
   "source": [
    "#graph_path = '../examples/boptest/testcase_multizone_office_simple_air/multizone_office_simple_air.ttl'\n",
    "graph_path = '../examples/boptest/testcase_bestest_air/bestest_air.ttl'\n",
    "\n",
    "# Define manifest paths (metadata requirements for the controls)\n",
    "manifest_paths = {\n",
    "        'shed os_c1_1_zone_temp_adjs_rat':'validation/manifests_controls/manifest_os_c1_1_zone_temp_adjs_rat.ttl',\n",
    "        'shed os_zone_temp_adjs_dem_rat':'validation/manifests_controls/manifest_shed_os_zone_temp_adjs_dem_rat.ttl'             \n",
    "        }"
   ]
  },
  {
   "cell_type": "markdown",
   "metadata": {},
   "source": [
    "### Validating a Brick model"
   ]
  },
  {
   "cell_type": "code",
   "execution_count": 3,
   "metadata": {},
   "outputs": [
    {
     "ename": "ModuleNotFoundError",
     "evalue": "No module named 'tabulate'",
     "output_type": "error",
     "traceback": [
      "\u001b[1;31m---------------------------------------------------------------------------\u001b[0m",
      "\u001b[1;31mModuleNotFoundError\u001b[0m                       Traceback (most recent call last)",
      "Cell \u001b[1;32mIn[3], line 1\u001b[0m\n\u001b[1;32m----> 1\u001b[0m \u001b[38;5;28;01mfrom\u001b[39;00m \u001b[38;5;21;01mbuildingMOTIF_interface\u001b[39;00m \u001b[38;5;28;01mimport\u001b[39;00m ValidationInterface\n\u001b[0;32m      3\u001b[0m \u001b[38;5;66;03m# Initialize validation interface\u001b[39;00m\n\u001b[0;32m      4\u001b[0m validator \u001b[38;5;241m=\u001b[39m ValidationInterface(graph_path, manifest_paths)\n",
      "File \u001b[1;32mc:\\Users\\Flavinha\\DFLEXLIBS\\DFLEXLIBS\\examples\\boptest\\validation\\buildingMOTIF_interface.py:7\u001b[0m\n\u001b[0;32m      5\u001b[0m \u001b[38;5;28;01mfrom\u001b[39;00m \u001b[38;5;21;01mbuildingmotif\u001b[39;00m\u001b[38;5;21;01m.\u001b[39;00m\u001b[38;5;21;01mdataclasses\u001b[39;00m \u001b[38;5;28;01mimport\u001b[39;00m Model, Library\n\u001b[0;32m      6\u001b[0m \u001b[38;5;28;01mfrom\u001b[39;00m \u001b[38;5;21;01mbuildingmotif\u001b[39;00m\u001b[38;5;21;01m.\u001b[39;00m\u001b[38;5;21;01mnamespaces\u001b[39;00m \u001b[38;5;28;01mimport\u001b[39;00m BRICK \u001b[38;5;66;03m# import this to make writing URIs easier\u001b[39;00m\n\u001b[1;32m----> 7\u001b[0m \u001b[38;5;28;01mfrom\u001b[39;00m \u001b[38;5;21;01mtabulate\u001b[39;00m \u001b[38;5;28;01mimport\u001b[39;00m tabulate\n\u001b[0;32m      8\u001b[0m \u001b[38;5;28;01mimport\u001b[39;00m \u001b[38;5;21;01mjson\u001b[39;00m\n\u001b[0;32m     10\u001b[0m \u001b[38;5;28;01mclass\u001b[39;00m \u001b[38;5;21;01mValidationInterface\u001b[39;00m:\n",
      "\u001b[1;31mModuleNotFoundError\u001b[0m: No module named 'tabulate'"
     ]
    }
   ],
   "source": [
    "from buildingMOTIF_interface import ValidationInterface\n",
    "\n",
    "# Initialize validation interface\n",
    "validator = ValidationInterface(graph_path, manifest_paths)\n",
    "\n",
    "# Run validation\n",
    "suitable_controlApps = []\n",
    "suitable_controlApps = validator.validate()\n",
    "suitable_controlApps = [list(d)[0] for d in suitable_controlApps]\n",
    "\n",
    "print('Suitable DF control apps according to metadata in the Brick model',suitable_controlApps)"
   ]
  },
  {
   "cell_type": "code",
   "execution_count": null,
   "metadata": {},
   "outputs": [
    {
     "name": "stdout",
     "output_type": "stream",
     "text": [
      "{\n",
      "  \"validation_table\": [\n",
      "    [\n",
      "      \"shed os_zone_temp_adjs_rat\",\n",
      "      true\n",
      "    ],\n",
      "    [\n",
      "      \"shed os_zone_temp_adjs_dem_rat\",\n",
      "      false\n",
      "    ],\n",
      "    [\n",
      "      \"shift os_zone_precool_sim\",\n",
      "      true\n",
      "    ],\n",
      "    [\n",
      "      \"shift os_zone_precool_com\",\n",
      "      true\n",
      "    ],\n",
      "    [\n",
      "      \"shift/shed os_zone_precool_sim_temp_adjs_rat\",\n",
      "      true\n",
      "    ]\n",
      "  ],\n",
      "  \"suitable_controlApps\": [\n",
      "    \"shed os_zone_temp_adjs_rat\",\n",
      "    \"shift os_zone_precool_sim\",\n",
      "    \"shift os_zone_precool_com\",\n",
      "    \"shift/shed os_zone_precool_sim_temp_adjs_rat\"\n",
      "  ],\n",
      "  \"non_suitable_controlApps\": [\n",
      "    [\n",
      "      \"shed os_zone_temp_adjs_dem_rat\",\n",
      "      \"Graph did not have 1 instances of https://brickschema.org/schema/Brick#Electric_Power_Sensor\"\n",
      "    ]\n",
      "  ]\n",
      "}\n"
     ]
    }
   ],
   "source": [
    "# Get results in json format\n",
    "json_results = validator.get_results()"
   ]
  }
 ],
 "metadata": {
  "kernelspec": {
   "display_name": "env",
   "language": "python",
   "name": "python3"
  },
  "language_info": {
   "codemirror_mode": {
    "name": "ipython",
    "version": 3
   },
   "file_extension": ".py",
   "mimetype": "text/x-python",
   "name": "python",
   "nbconvert_exporter": "python",
   "pygments_lexer": "ipython3",
   "version": "3.12.4"
  },
  "orig_nbformat": 4
 },
 "nbformat": 4,
 "nbformat_minor": 2
}
