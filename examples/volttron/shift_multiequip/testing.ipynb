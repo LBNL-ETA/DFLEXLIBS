{
 "cells": [
  {
   "cell_type": "code",
   "execution_count": 31,
   "metadata": {},
   "outputs": [],
   "source": [
    "from app import create_application\n",
    "import yaml"
   ]
  },
  {
   "cell_type": "code",
   "execution_count": 32,
   "metadata": {},
   "outputs": [],
   "source": [
    "config_path = 'config.yml'\n",
    "with open(config_path) as fp:\n",
    "    config = yaml.safe_load(fp)"
   ]
  },
  {
   "cell_type": "code",
   "execution_count": 33,
   "metadata": {},
   "outputs": [],
   "source": [
    "app = create_application(config)"
   ]
  },
  {
   "cell_type": "code",
   "execution_count": 35,
   "metadata": {},
   "outputs": [
    {
     "data": {
      "text/plain": [
       "{'range_query': range(0, 5),\n",
       " 'TZonPoint': ['sensibo/FCU1/temperature',\n",
       "  'sensibo/FCU2/temperature',\n",
       "  'sensibo/FCU3/temperature',\n",
       "  'sensibo/FCU4/temperature',\n",
       "  'sensibo/FCU5/temperature'],\n",
       " 'TSetZonPoint': ['sensibo/FCU1/targetTemperature',\n",
       "  'sensibo/FCU2/targetTemperature',\n",
       "  'sensibo/FCU3/targetTemperature',\n",
       "  'sensibo/FCU4/targetTemperature',\n",
       "  'sensibo/FCU5/targetTemperature'],\n",
       " 'TSetHeaZonPoint': ['N/A', 'N/A', 'N/A', 'N/A', 'N/A'],\n",
       " 'TSetCooZonPoint': ['N/A', 'N/A', 'N/A', 'N/A', 'N/A']}"
      ]
     },
     "execution_count": 35,
     "metadata": {},
     "output_type": "execute_result"
    }
   ],
   "source": [
    "app.sparql_results"
   ]
  },
  {
   "cell_type": "code",
   "execution_count": 34,
   "metadata": {},
   "outputs": [],
   "source": [
    "TSet_names = app.sparql_results.get('TSetZonPoint')"
   ]
  },
  {
   "cell_type": "code",
   "execution_count": 36,
   "metadata": {},
   "outputs": [],
   "source": [
    "kwargs = {\n",
    "    'TSet_names': TSet_names,\n",
    "    'TZon_lst': [19,21,5,19,18],\n",
    "    'TSet_lst': [20,20,15,18,20], \n",
    "    'step_lst': [1800,900,3900,9000,900],\n",
    "    'current_hour' : 1,\n",
    "    'shift_lookahead' : 1\n",
    "}"
   ]
  },
  {
   "cell_type": "code",
   "execution_count": 37,
   "metadata": {},
   "outputs": [
    {
     "name": "stdout",
     "output_type": "stream",
     "text": [
      "cool_signal 0 heat_signal 1\n",
      "TSetMin_baseline 16 TSetMin 16\n",
      "TSetMax_baseline 21 TSetMax 21\n",
      "call shift\n",
      "current_price 0 price_threshold_value 0 future_price 0 future_occ_schedule 0\n",
      "False True False\n",
      "shed heat {'sensibo/FCU1/targetTemperature': 18.33, 'sensibo/FCU1/targetTemperature_enable': 1}\n",
      "{'sensibo/FCU1/targetTemperature': 18.33, 'sensibo/FCU1/targetTemperature_enable': 1}\n",
      "cool_signal 0 heat_signal 1\n",
      "TSetMin_baseline 16 TSetMin 16\n",
      "TSetMax_baseline 21 TSetMax 21\n",
      "call shift\n",
      "current_price 0 price_threshold_value 0 future_price 0 future_occ_schedule 0\n",
      "False True False\n",
      "shed heat {'sensibo/FCU2/targetTemperature': 18.89, 'sensibo/FCU2/targetTemperature_enable': 1}\n",
      "{'sensibo/FCU2/targetTemperature': 18.89, 'sensibo/FCU2/targetTemperature_enable': 1}\n",
      "cool_signal 0 heat_signal 1\n",
      "TSetMin_baseline 16 TSetMin 16\n",
      "TSetMax_baseline 21 TSetMax 21\n",
      "call shift\n",
      "current_price 0 price_threshold_value 0 future_price 0 future_occ_schedule 0\n",
      "False True False\n",
      "shed heat {'sensibo/FCU3/targetTemperature': 16, 'sensibo/FCU3/targetTemperature_enable': 1}\n",
      "{'sensibo/FCU3/targetTemperature': 16, 'sensibo/FCU3/targetTemperature_enable': 1}\n",
      "cool_signal 0 heat_signal 1\n",
      "TSetMin_baseline 16 TSetMin 16\n",
      "TSetMax_baseline 21 TSetMax 21\n",
      "call shift\n",
      "current_price 0 price_threshold_value 0 future_price 0 future_occ_schedule 0\n",
      "False True False\n",
      "shed heat {'sensibo/FCU4/targetTemperature': 16, 'sensibo/FCU4/targetTemperature_enable': 1}\n",
      "{'sensibo/FCU4/targetTemperature': 16, 'sensibo/FCU4/targetTemperature_enable': 1}\n",
      "cool_signal 0 heat_signal 1\n",
      "TSetMin_baseline 16 TSetMin 16\n",
      "TSetMax_baseline 21 TSetMax 21\n",
      "call shift\n",
      "current_price 0 price_threshold_value 0 future_price 0 future_occ_schedule 0\n",
      "False True False\n",
      "shed heat {'sensibo/FCU5/targetTemperature': 18.89, 'sensibo/FCU5/targetTemperature_enable': 1}\n",
      "{'sensibo/FCU5/targetTemperature': 18.89, 'sensibo/FCU5/targetTemperature_enable': 1}\n"
     ]
    }
   ],
   "source": [
    "output = app.control_agent(**kwargs)"
   ]
  },
  {
   "cell_type": "code",
   "execution_count": 40,
   "metadata": {},
   "outputs": [
    {
     "data": {
      "text/plain": [
       "([{'sensibo/FCU1/targetTemperature': 18.33,\n",
       "   'sensibo/FCU1/targetTemperature_enable': 1},\n",
       "  {'sensibo/FCU2/targetTemperature': 18.89,\n",
       "   'sensibo/FCU2/targetTemperature_enable': 1},\n",
       "  {'sensibo/FCU3/targetTemperature': 16,\n",
       "   'sensibo/FCU3/targetTemperature_enable': 1},\n",
       "  {'sensibo/FCU4/targetTemperature': 16,\n",
       "   'sensibo/FCU4/targetTemperature_enable': 1},\n",
       "  {'sensibo/FCU5/targetTemperature': 18.89,\n",
       "   'sensibo/FCU5/targetTemperature_enable': 1}],\n",
       " ['sensibo/FCU3/targetTemperature_on', 'sensibo/FCU5/targetTemperature_on'])"
      ]
     },
     "execution_count": 40,
     "metadata": {},
     "output_type": "execute_result"
    }
   ],
   "source": [
    "output"
   ]
  },
  {
   "cell_type": "code",
   "execution_count": null,
   "metadata": {},
   "outputs": [],
   "source": []
  }
 ],
 "metadata": {
  "kernelspec": {
   "display_name": "demand_response_controls_library-7baMypYB",
   "language": "python",
   "name": "python3"
  },
  "language_info": {
   "codemirror_mode": {
    "name": "ipython",
    "version": 3
   },
   "file_extension": ".py",
   "mimetype": "text/x-python",
   "name": "python",
   "nbconvert_exporter": "python",
   "pygments_lexer": "ipython3",
   "version": "3.11.4"
  },
  "orig_nbformat": 4,
  "vscode": {
   "interpreter": {
    "hash": "f72ac6604bbd2b40cc1f3d02e3be6ddeec82f2a00af27ea5a8057fccea36118e"
   }
  }
 },
 "nbformat": 4,
 "nbformat_minor": 2
}
